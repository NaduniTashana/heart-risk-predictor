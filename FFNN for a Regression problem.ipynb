{
 "cells": [
  {
   "cell_type": "code",
   "execution_count": 187,
   "id": "48cbee97-a228-4316-b0fd-80d274f72eee",
   "metadata": {},
   "outputs": [],
   "source": [
    "from matplotlib import pyplot as plt\n",
    "\n",
    "import pandas as pd\n",
    "import numpy as np"
   ]
  },
  {
   "cell_type": "markdown",
   "id": "a85051d6-55b8-4510-9b51-fc649fd0fa4f",
   "metadata": {},
   "source": [
    "## Read the dataset"
   ]
  },
  {
   "cell_type": "code",
   "execution_count": 188,
   "id": "f2d90753-bdee-4ad7-a295-c597b7bf6f06",
   "metadata": {},
   "outputs": [
    {
     "data": {
      "text/html": [
       "<div>\n",
       "<style scoped>\n",
       "    .dataframe tbody tr th:only-of-type {\n",
       "        vertical-align: middle;\n",
       "    }\n",
       "\n",
       "    .dataframe tbody tr th {\n",
       "        vertical-align: top;\n",
       "    }\n",
       "\n",
       "    .dataframe thead th {\n",
       "        text-align: right;\n",
       "    }\n",
       "</style>\n",
       "<table border=\"1\" class=\"dataframe\">\n",
       "  <thead>\n",
       "    <tr style=\"text-align: right;\">\n",
       "      <th></th>\n",
       "      <th>SEX</th>\n",
       "      <th>AGEIR</th>\n",
       "      <th>TC</th>\n",
       "      <th>HDL</th>\n",
       "      <th>SMOKE_</th>\n",
       "      <th>BPMED</th>\n",
       "      <th>DIAB_01</th>\n",
       "      <th>RISK</th>\n",
       "    </tr>\n",
       "  </thead>\n",
       "  <tbody>\n",
       "    <tr>\n",
       "      <th>0</th>\n",
       "      <td>1</td>\n",
       "      <td>48</td>\n",
       "      <td>236</td>\n",
       "      <td>66</td>\n",
       "      <td>0</td>\n",
       "      <td>1</td>\n",
       "      <td>0</td>\n",
       "      <td>1.1</td>\n",
       "    </tr>\n",
       "    <tr>\n",
       "      <th>1</th>\n",
       "      <td>0</td>\n",
       "      <td>48</td>\n",
       "      <td>260</td>\n",
       "      <td>51</td>\n",
       "      <td>0</td>\n",
       "      <td>1</td>\n",
       "      <td>1</td>\n",
       "      <td>7.0</td>\n",
       "    </tr>\n",
       "    <tr>\n",
       "      <th>2</th>\n",
       "      <td>0</td>\n",
       "      <td>44</td>\n",
       "      <td>187</td>\n",
       "      <td>49</td>\n",
       "      <td>1</td>\n",
       "      <td>1</td>\n",
       "      <td>0</td>\n",
       "      <td>7.0</td>\n",
       "    </tr>\n",
       "    <tr>\n",
       "      <th>3</th>\n",
       "      <td>1</td>\n",
       "      <td>42</td>\n",
       "      <td>216</td>\n",
       "      <td>57</td>\n",
       "      <td>1</td>\n",
       "      <td>1</td>\n",
       "      <td>0</td>\n",
       "      <td>0.4</td>\n",
       "    </tr>\n",
       "    <tr>\n",
       "      <th>4</th>\n",
       "      <td>1</td>\n",
       "      <td>56</td>\n",
       "      <td>156</td>\n",
       "      <td>42</td>\n",
       "      <td>0</td>\n",
       "      <td>1</td>\n",
       "      <td>0</td>\n",
       "      <td>2.2</td>\n",
       "    </tr>\n",
       "    <tr>\n",
       "      <th>...</th>\n",
       "      <td>...</td>\n",
       "      <td>...</td>\n",
       "      <td>...</td>\n",
       "      <td>...</td>\n",
       "      <td>...</td>\n",
       "      <td>...</td>\n",
       "      <td>...</td>\n",
       "      <td>...</td>\n",
       "    </tr>\n",
       "    <tr>\n",
       "      <th>6639</th>\n",
       "      <td>1</td>\n",
       "      <td>65</td>\n",
       "      <td>307</td>\n",
       "      <td>42</td>\n",
       "      <td>1</td>\n",
       "      <td>0</td>\n",
       "      <td>1</td>\n",
       "      <td>36.6</td>\n",
       "    </tr>\n",
       "    <tr>\n",
       "      <th>6640</th>\n",
       "      <td>1</td>\n",
       "      <td>42</td>\n",
       "      <td>169</td>\n",
       "      <td>56</td>\n",
       "      <td>0</td>\n",
       "      <td>0</td>\n",
       "      <td>0</td>\n",
       "      <td>0.8</td>\n",
       "    </tr>\n",
       "    <tr>\n",
       "      <th>6641</th>\n",
       "      <td>0</td>\n",
       "      <td>65</td>\n",
       "      <td>212</td>\n",
       "      <td>35</td>\n",
       "      <td>1</td>\n",
       "      <td>0</td>\n",
       "      <td>0</td>\n",
       "      <td>30.6</td>\n",
       "    </tr>\n",
       "    <tr>\n",
       "      <th>6642</th>\n",
       "      <td>0</td>\n",
       "      <td>66</td>\n",
       "      <td>184</td>\n",
       "      <td>39</td>\n",
       "      <td>0</td>\n",
       "      <td>0</td>\n",
       "      <td>0</td>\n",
       "      <td>23.8</td>\n",
       "    </tr>\n",
       "    <tr>\n",
       "      <th>6643</th>\n",
       "      <td>1</td>\n",
       "      <td>45</td>\n",
       "      <td>203</td>\n",
       "      <td>51</td>\n",
       "      <td>0</td>\n",
       "      <td>1</td>\n",
       "      <td>0</td>\n",
       "      <td>1.0</td>\n",
       "    </tr>\n",
       "  </tbody>\n",
       "</table>\n",
       "<p>6644 rows × 8 columns</p>\n",
       "</div>"
      ],
      "text/plain": [
       "      SEX  AGEIR   TC  HDL  SMOKE_  BPMED  DIAB_01  RISK\n",
       "0       1     48  236   66       0      1        0   1.1\n",
       "1       0     48  260   51       0      1        1   7.0\n",
       "2       0     44  187   49       1      1        0   7.0\n",
       "3       1     42  216   57       1      1        0   0.4\n",
       "4       1     56  156   42       0      1        0   2.2\n",
       "...   ...    ...  ...  ...     ...    ...      ...   ...\n",
       "6639    1     65  307   42       1      0        1  36.6\n",
       "6640    1     42  169   56       0      0        0   0.8\n",
       "6641    0     65  212   35       1      0        0  30.6\n",
       "6642    0     66  184   39       0      0        0  23.8\n",
       "6643    1     45  203   51       0      1        0   1.0\n",
       "\n",
       "[6644 rows x 8 columns]"
      ]
     },
     "execution_count": 188,
     "metadata": {},
     "output_type": "execute_result"
    }
   ],
   "source": [
    "df= pd.read_csv(r'Downloads/cardio_dataset.csv')\n",
    "df"
   ]
  },
  {
   "cell_type": "markdown",
   "id": "3cc0698f-1b5c-4fe9-8dcd-561ddc135d2c",
   "metadata": {},
   "source": [
    "## Devide data and target"
   ]
  },
  {
   "cell_type": "code",
   "execution_count": 189,
   "id": "6a39cc6e-cc43-4da3-8f8e-98c070d11aca",
   "metadata": {},
   "outputs": [],
   "source": [
    "dataset= df.values\n",
    "\n",
    "data= dataset[:,0:7]\n",
    "target= dataset[:,7]"
   ]
  },
  {
   "cell_type": "markdown",
   "id": "8a2f6bc9-fd55-49b1-80e0-3269f452aac1",
   "metadata": {},
   "source": [
    "## Scalling"
   ]
  },
  {
   "cell_type": "code",
   "execution_count": 190,
   "id": "944875b8-8a0d-4cf8-9e00-ee0e7b95dc89",
   "metadata": {},
   "outputs": [],
   "source": [
    "#in scalling what we do is foe a give column with various numreical values we give them a value between 1 and 0\n",
    "from sklearn.preprocessing import MinMaxScaler\n",
    "\n",
    "target= np.reshape(target,(-1,1))\n",
    "\n",
    "scaler_data= MinMaxScaler()\n",
    "scaler_target= MinMaxScaler()\n",
    "\n",
    "data_scaled= scaler_data.fit_transform(data)\n",
    "target_scaled= scaler_target.fit_transform(target)"
   ]
  },
  {
   "cell_type": "code",
   "execution_count": 191,
   "id": "71c2341c-fc81-48fb-b16b-c2863068e402",
   "metadata": {},
   "outputs": [
    {
     "name": "stdout",
     "output_type": "stream",
     "text": [
      "[[1.         0.20512821 0.40045249 0.29347826 0.         1.\n",
      "  0.        ]\n",
      " [0.         0.20512821 0.45475113 0.21195652 0.         1.\n",
      "  1.        ]\n",
      " [0.         0.1025641  0.28959276 0.20108696 1.         1.\n",
      "  0.        ]\n",
      " [1.         0.05128205 0.35520362 0.24456522 1.         1.\n",
      "  0.        ]\n",
      " [1.         0.41025641 0.21945701 0.16304348 0.         1.\n",
      "  0.        ]\n",
      " [0.         0.1025641  0.23303167 0.24456522 1.         1.\n",
      "  0.        ]\n",
      " [0.         0.25641026 0.41855204 0.19021739 0.         1.\n",
      "  0.        ]\n",
      " [0.         0.20512821 0.34615385 0.09782609 1.         1.\n",
      "  0.        ]\n",
      " [1.         0.66666667 0.32352941 0.22282609 0.         1.\n",
      "  1.        ]\n",
      " [0.         0.58974359 0.28733032 0.18478261 1.         1.\n",
      "  0.        ]]\n"
     ]
    }
   ],
   "source": [
    "print(data_scaled[:10])"
   ]
  },
  {
   "cell_type": "code",
   "execution_count": 192,
   "id": "8407394c-eb7c-457e-899a-fcb0f43c283e",
   "metadata": {},
   "outputs": [
    {
     "name": "stdout",
     "output_type": "stream",
     "text": [
      "[[0.01172333]\n",
      " [0.08089097]\n",
      " [0.08089097]\n",
      " [0.003517  ]\n",
      " [0.02461899]\n",
      " [0.03399766]\n",
      " [0.04806565]\n",
      " [0.2028136 ]\n",
      " [0.15592028]\n",
      " [0.20164127]]\n"
     ]
    }
   ],
   "source": [
    "print(target_scaled[:10])"
   ]
  },
  {
   "cell_type": "markdown",
   "id": "11b826a9-cf7c-4b65-98bc-7368f9c7e324",
   "metadata": {},
   "source": [
    "## Why scaling?"
   ]
  },
  {
   "cell_type": "code",
   "execution_count": 193,
   "id": "1d19bfdc-23f1-44e5-a678-1560ef4da20d",
   "metadata": {},
   "outputs": [
    {
     "data": {
      "image/png": "[encoded data removed]",
      "text/plain": [
       "<Figure size 640x480 with 1 Axes>"
      ]
     },
     "metadata": {},
     "output_type": "display_data"
    }
   ],
   "source": [
    "#we can scale as we want range,like (-1,1) or 0-5 or any other range\n",
    "#we can give this as a parameter ,default value is 0-1\n",
    "\n",
    "plt.hist(data[:,2],bins=100)\n",
    "plt.title('original TC')\n",
    "plt.xlabel('TC level')\n",
    "plt.ylabel('frequency')\n",
    "plt.show()\n",
    "\n"
   ]
  },
  {
   "cell_type": "code",
   "execution_count": 194,
   "id": "2fbaf7c3-e714-4524-8073-9380c4c5084e",
   "metadata": {},
   "outputs": [
    {
     "data": {
      "image/png": "[encoded data removed]",
      "text/plain": [
       "<Figure size 640x480 with 1 Axes>"
      ]
     },
     "metadata": {},
     "output_type": "display_data"
    }
   ],
   "source": [
    "#after scaled\n",
    "plt.hist(data_scaled[:,2],bins=100)\n",
    "plt.title('scaled TC')\n",
    "plt.xlabel('TC level')\n",
    "plt.ylabel('frequency')\n",
    "plt.show()"
   ]
  },
  {
   "cell_type": "markdown",
   "id": "f2492e15-c578-45e8-806e-a4e9c9283491",
   "metadata": {},
   "source": [
    "## Other scaling methods"
   ]
  },
  {
   "cell_type": "markdown",
   "id": "1789d0a7-3f73-4ca7-84bf-f54b6301135e",
   "metadata": {},
   "source": [
    "### 1 Standard Scalling"
   ]
  },
  {
   "cell_type": "code",
   "execution_count": 195,
   "id": "8cef6e77-1b2c-4c93-a8cd-636e35328b0f",
   "metadata": {},
   "outputs": [],
   "source": [
    "from sklearn.preprocessing import StandardScaler\n",
    "\n",
    "standard_scaler= StandardScaler()\n",
    "standard_scaled_data= standard_scaler.fit_transform(data)"
   ]
  },
  {
   "cell_type": "code",
   "execution_count": 196,
   "id": "0a50e2b2-2ec0-4b85-97f9-6e5f331538e9",
   "metadata": {},
   "outputs": [
    {
     "data": {
      "image/png": "[encoded data removed]",
      "text/plain": [
       "<Figure size 640x480 with 1 Axes>"
      ]
     },
     "metadata": {},
     "output_type": "display_data"
    }
   ],
   "source": [
    "plt.hist(standard_scaled_data[:,2],bins=100)\n",
    "plt.title('Qunatiled TC')\n",
    "plt.xlabel('TC level')\n",
    "plt.ylabel('frequency')\n",
    "plt.show()"
   ]
  },
  {
   "cell_type": "markdown",
   "id": "8c601dcf-b24d-43db-8870-5deb74d24507",
   "metadata": {},
   "source": [
    "## Quantile Transformation"
   ]
  },
  {
   "cell_type": "code",
   "execution_count": 197,
   "id": "a0c84281-dd15-4185-82b9-9f86aac8eefc",
   "metadata": {},
   "outputs": [],
   "source": [
    "#some neural network request data for center 0(normal destribution 😁)\n",
    "\n",
    "from sklearn.preprocessing import QuantileTransformer\n",
    "\n",
    "qtrans= QuantileTransformer(output_distribution='normal',random_state=0)\n",
    "quantile_transform_data= qtrans.fit_transform(data)"
   ]
  },
  {
   "cell_type": "code",
   "execution_count": 198,
   "id": "6337a40d-c362-4e97-b5b2-650bd325bcc4",
   "metadata": {},
   "outputs": [
    {
     "data": {
      "image/png": "[encoded data removed]",
      "text/plain": [
       "<Figure size 640x480 with 1 Axes>"
      ]
     },
     "metadata": {},
     "output_type": "display_data"
    }
   ],
   "source": [
    "plt.hist(quantile_transform_data[:,2],bins=100)\n",
    "plt.show()"
   ]
  },
  {
   "cell_type": "markdown",
   "id": "f89f2b76-395b-4bff-abed-56903d9251da",
   "metadata": {},
   "source": [
    "## Train test split"
   ]
  },
  {
   "cell_type": "code",
   "execution_count": 199,
   "id": "ce7d8f52-5f0d-4169-a81d-c58ad03febb7",
   "metadata": {},
   "outputs": [],
   "source": [
    "from sklearn.model_selection import train_test_split\n",
    "train_data,test_data,train_target,test_target = train_test_split(data_scaled,target_scaled,test_size=0.2)"
   ]
  },
  {
   "cell_type": "markdown",
   "id": "e04de199-09d7-4093-8fb0-38f1ffed98a6",
   "metadata": {},
   "source": [
    "## FFNN architeccture"
   ]
  },
  {
   "cell_type": "code",
   "execution_count": 200,
   "id": "12a12492-260e-4471-a475-4f4e2c637df3",
   "metadata": {},
   "outputs": [
    {
     "name": "stdout",
     "output_type": "stream",
     "text": [
      "Model: \"sequential_9\"\n",
      "_________________________________________________________________\n",
      " Layer (type)                Output Shape              Param #   \n",
      "=================================================================\n",
      " dense_38 (Dense)            (None, 128)               1024      \n",
      "                                                                 \n",
      " dropout_14 (Dropout)        (None, 128)               0         \n",
      "                                                                 \n",
      " dense_39 (Dense)            (None, 64)                8256      \n",
      "                                                                 \n",
      " dropout_15 (Dropout)        (None, 64)                0         \n",
      "                                                                 \n",
      " dense_40 (Dense)            (None, 10)                650       \n",
      "                                                                 \n",
      " dense_41 (Dense)            (None, 1)                 11        \n",
      "                                                                 \n",
      "=================================================================\n",
      "Total params: 9,941\n",
      "Trainable params: 9,941\n",
      "Non-trainable params: 0\n",
      "_________________________________________________________________\n"
     ]
    }
   ],
   "source": [
    "from keras.models import Sequential\n",
    "from keras.layers import Dense,Dropout\n",
    "import numpy as np\n",
    "\n",
    "model= Sequential()\n",
    "#for linear problems we mostly used relu and linear\n",
    "#but you can try when use activation as sigmoid it give better result than relu here\n",
    "model.add(Dense(128,input_dim=7,activation='relu'))\n",
    "#reduce overfitting by droput layers(randomly selected neurons 50% deactivating)\n",
    "model.add(Dropout(0.5))\n",
    "model.add(Dense(64,activation='relu'))\n",
    "model.add(Dropout(0.5))\n",
    "model.add(Dense(10,activation='relu'))\n",
    "model.add(Dense(1,activation='linear'))\n",
    "\n",
    "model.compile(optimizer='adam',loss='mse',metrics=['mse','mae'])\n",
    "model.summary()"
   ]
  },
  {
   "cell_type": "code",
   "execution_count": 201,
   "id": "c705cb92-33a8-4362-9a36-f640730762f5",
   "metadata": {},
   "outputs": [],
   "source": [
    "from sklearn.metrics import r2_score\n",
    "import keras\n",
    "\n",
    "class CustomCallback(keras.callbacks.Callback):\n",
    "    def on_epoch_end(self,epoch,logs=None):\n",
    "        predicted_result=model.predict(test_data)\n",
    "        r2=r2_score(test_target,predicted_result)\n",
    "        print('epoch:',epoch,'-r2 score:',r2)\n",
    "#if we want to calculate r2 score after every epoch"
   ]
  },
  {
   "cell_type": "code",
   "execution_count": 202,
   "id": "4ad76b5c-0d05-463d-911e-eb281b50be13",
   "metadata": {},
   "outputs": [],
   "source": [
    "from keras.callbacks import ModelCheckpoint\n",
    "checkpoint= ModelCheckpoint('models/model-{epoch:03d}.model',monitor='val_loss',save_best_only=True,mode='auto')"
   ]
  },
  {
   "cell_type": "code",
   "execution_count": 203,
   "id": "f9c595f7-9c79-4004-afc4-59e585bfb10d",
   "metadata": {},
   "outputs": [
    {
     "name": "stdout",
     "output_type": "stream",
     "text": [
      "Epoch 1/200\n",
      "115/167 [===================>..........] - ETA: 0s - loss: 0.0300 - mse: 0.0300 - mae: 0.1199 "
     ]
    },
    {
     "name": "stderr",
     "output_type": "stream",
     "text": [
      "2024-07-19 05:15:06.485896: I tensorflow/core/common_runtime/executor.cc:1197] [/device:CPU:0] (DEBUG INFO) Executor start aborting (this does not indicate an error and you can ignore this message): INVALID_ARGUMENT: You must feed a value for placeholder tensor 'inputs' with dtype float and shape [?,128]\n",
      "\t [[{{node inputs}}]]\n",
      "2024-07-19 05:15:06.490517: I tensorflow/core/common_runtime/executor.cc:1197] [/device:CPU:0] (DEBUG INFO) Executor start aborting (this does not indicate an error and you can ignore this message): INVALID_ARGUMENT: You must feed a value for placeholder tensor 'inputs' with dtype float and shape [?,64]\n",
      "\t [[{{node inputs}}]]\n",
      "2024-07-19 05:15:06.537124: I tensorflow/core/common_runtime/executor.cc:1197] [/device:CPU:0] (DEBUG INFO) Executor start aborting (this does not indicate an error and you can ignore this message): INVALID_ARGUMENT: You must feed a value for placeholder tensor 'inputs' with dtype float and shape [?,128]\n",
      "\t [[{{node inputs}}]]\n",
      "2024-07-19 05:15:06.546049: I tensorflow/core/common_runtime/executor.cc:1197] [/device:CPU:0] (DEBUG INFO) Executor start aborting (this does not indicate an error and you can ignore this message): INVALID_ARGUMENT: You must feed a value for placeholder tensor 'inputs' with dtype float and shape [?,64]\n",
      "\t [[{{node inputs}}]]\n"
     ]
    },
    {
     "name": "stdout",
     "output_type": "stream",
     "text": [
      "INFO:tensorflow:Assets written to: models/model-001.model/assets\n",
      "42/42 [==============================] - 0s 241us/step\n",
      "epoch: 0 -r2 score: 0.3795722666348702\n",
      "167/167 [==============================] - 1s 4ms/step - loss: 0.0256 - mse: 0.0256 - mae: 0.1106 - val_loss: 0.0145 - val_mse: 0.0145 - val_mae: 0.0740\n",
      "Epoch 2/200\n",
      "110/167 [==================>...........] - ETA: 0s - loss: 0.0131 - mse: 0.0131 - mae: 0.0791INFO:tensorflow:Assets written to: models/model-002.model/assets\n",
      " 1/42 [..............................] - ETA: 0s"
     ]
    },
    {
     "name": "stderr",
     "output_type": "stream",
     "text": [
      "2024-07-19 05:15:07.082971: I tensorflow/core/common_runtime/executor.cc:1197] [/device:CPU:0] (DEBUG INFO) Executor start aborting (this does not indicate an error and you can ignore this message): INVALID_ARGUMENT: You must feed a value for placeholder tensor 'inputs' with dtype float and shape [?,128]\n",
      "\t [[{{node inputs}}]]\n",
      "2024-07-19 05:15:07.086989: I tensorflow/core/common_runtime/executor.cc:1197] [/device:CPU:0] (DEBUG INFO) Executor start aborting (this does not indicate an error and you can ignore this message): INVALID_ARGUMENT: You must feed a value for placeholder tensor 'inputs' with dtype float and shape [?,64]\n",
      "\t [[{{node inputs}}]]\n",
      "2024-07-19 05:15:07.132674: I tensorflow/core/common_runtime/executor.cc:1197] [/device:CPU:0] (DEBUG INFO) Executor start aborting (this does not indicate an error and you can ignore this message): INVALID_ARGUMENT: You must feed a value for placeholder tensor 'inputs' with dtype float and shape [?,128]\n",
      "\t [[{{node inputs}}]]\n",
      "2024-07-19 05:15:07.141771: I tensorflow/core/common_runtime/executor.cc:1197] [/device:CPU:0] (DEBUG INFO) Executor start aborting (this does not indicate an error and you can ignore this message): INVALID_ARGUMENT: You must feed a value for placeholder tensor 'inputs' with dtype float and shape [?,64]\n",
      "\t [[{{node inputs}}]]\n"
     ]
    },
    {
     "name": "stdout",
     "output_type": "stream",
     "text": [
      "42/42 [==============================] - 0s 247us/step\n",
      "epoch: 1 -r2 score: 0.5057196029335113\n",
      "167/167 [==============================] - 0s 2ms/step - loss: 0.0119 - mse: 0.0119 - mae: 0.0755 - val_loss: 0.0115 - val_mse: 0.0115 - val_mae: 0.0663\n",
      "Epoch 3/200\n",
      "110/167 [==================>...........] - ETA: 0s - loss: 0.0100 - mse: 0.0100 - mae: 0.0676INFO:tensorflow:Assets written to: models/model-003.model/assets\n"
     ]
    },
    {
     "name": "stderr",
     "output_type": "stream",
     "text": [
      "2024-07-19 05:15:07.440562: I tensorflow/core/common_runtime/executor.cc:1197] [/device:CPU:0] (DEBUG INFO) Executor start aborting (this does not indicate an error and you can ignore this message): INVALID_ARGUMENT: You must feed a value for placeholder tensor 'inputs' with dtype float and shape [?,128]\n",
      "\t [[{{node inputs}}]]\n",
      "2024-07-19 05:15:07.444863: I tensorflow/core/common_runtime/executor.cc:1197] [/device:CPU:0] (DEBUG INFO) Executor start aborting (this does not indicate an error and you can ignore this message): INVALID_ARGUMENT: You must feed a value for placeholder tensor 'inputs' with dtype float and shape [?,64]\n",
      "\t [[{{node inputs}}]]\n",
      "2024-07-19 05:15:07.491303: I tensorflow/core/common_runtime/executor.cc:1197] [/device:CPU:0] (DEBUG INFO) Executor start aborting (this does not indicate an error and you can ignore this message): INVALID_ARGUMENT: You must feed a value for placeholder tensor 'inputs' with dtype float and shape [?,128]\n",
      "\t [[{{node inputs}}]]\n",
      "2024-07-19 05:15:07.500601: I tensorflow/core/common_runtime/executor.cc:1197] [/device:CPU:0] (DEBUG INFO) Executor start aborting (this does not indicate an error and you can ignore this message): INVALID_ARGUMENT: You must feed a value for placeholder tensor 'inputs' with dtype float and shape [?,64]\n",
      "\t [[{{node inputs}}]]\n"
     ]
    },
    {
     "name": "stdout",
     "output_type": "stream",
     "text": [
      "42/42 [==============================] - 0s 225us/step\n",
      "epoch: 2 -r2 score: 0.6197684719370846\n",
      "167/167 [==============================] - 0s 2ms/step - loss: 0.0093 - mse: 0.0093 - mae: 0.0659 - val_loss: 0.0089 - val_mse: 0.0089 - val_mae: 0.0568\n",
      "Epoch 4/200\n",
      "108/167 [==================>...........] - ETA: 0s - loss: 0.0085 - mse: 0.0085 - mae: 0.0619INFO:tensorflow:Assets written to: models/model-004.model/assets\n",
      " 1/42 [..............................] - ETA: 0s"
     ]
    },
    {
     "name": "stderr",
     "output_type": "stream",
     "text": [
      "2024-07-19 05:15:07.801556: I tensorflow/core/common_runtime/executor.cc:1197] [/device:CPU:0] (DEBUG INFO) Executor start aborting (this does not indicate an error and you can ignore this message): INVALID_ARGUMENT: You must feed a value for placeholder tensor 'inputs' with dtype float and shape [?,128]\n",
      "\t [[{{node inputs}}]]\n",
      "2024-07-19 05:15:07.805748: I tensorflow/core/common_runtime/executor.cc:1197] [/device:CPU:0] (DEBUG INFO) Executor start aborting (this does not indicate an error and you can ignore this message): INVALID_ARGUMENT: You must feed a value for placeholder tensor 'inputs' with dtype float and shape [?,64]\n",
      "\t [[{{node inputs}}]]\n",
      "2024-07-19 05:15:07.852511: I tensorflow/core/common_runtime/executor.cc:1197] [/device:CPU:0] (DEBUG INFO) Executor start aborting (this does not indicate an error and you can ignore this message): INVALID_ARGUMENT: You must feed a value for placeholder tensor 'inputs' with dtype float and shape [?,128]\n",
      "\t [[{{node inputs}}]]\n",
      "2024-07-19 05:15:07.861679: I tensorflow/core/common_runtime/executor.cc:1197] [/device:CPU:0] (DEBUG INFO) Executor start aborting (this does not indicate an error and you can ignore this message): INVALID_ARGUMENT: You must feed a value for placeholder tensor 'inputs' with dtype float and shape [?,64]\n",
      "\t [[{{node inputs}}]]\n"
     ]
    },
    {
     "name": "stdout",
     "output_type": "stream",
     "text": [
      "42/42 [==============================] - 0s 221us/step\n",
      "epoch: 3 -r2 score: 0.6473951347406273\n",
      "167/167 [==============================] - 0s 2ms/step - loss: 0.0081 - mse: 0.0081 - mae: 0.0605 - val_loss: 0.0082 - val_mse: 0.0082 - val_mae: 0.0535\n",
      "Epoch 5/200\n",
      "108/167 [==================>...........] - ETA: 0s - loss: 0.0071 - mse: 0.0071 - mae: 0.0564INFO:tensorflow:Assets written to: models/model-005.model/assets\n"
     ]
    },
    {
     "name": "stderr",
     "output_type": "stream",
     "text": [
      "2024-07-19 05:15:08.159059: I tensorflow/core/common_runtime/executor.cc:1197] [/device:CPU:0] (DEBUG INFO) Executor start aborting (this does not indicate an error and you can ignore this message): INVALID_ARGUMENT: You must feed a value for placeholder tensor 'inputs' with dtype float and shape [?,128]\n",
      "\t [[{{node inputs}}]]\n",
      "2024-07-19 05:15:08.163294: I tensorflow/core/common_runtime/executor.cc:1197] [/device:CPU:0] (DEBUG INFO) Executor start aborting (this does not indicate an error and you can ignore this message): INVALID_ARGUMENT: You must feed a value for placeholder tensor 'inputs' with dtype float and shape [?,64]\n",
      "\t [[{{node inputs}}]]\n",
      "2024-07-19 05:15:08.210452: I tensorflow/core/common_runtime/executor.cc:1197] [/device:CPU:0] (DEBUG INFO) Executor start aborting (this does not indicate an error and you can ignore this message): INVALID_ARGUMENT: You must feed a value for placeholder tensor 'inputs' with dtype float and shape [?,128]\n",
      "\t [[{{node inputs}}]]\n",
      "2024-07-19 05:15:08.219500: I tensorflow/core/common_runtime/executor.cc:1197] [/device:CPU:0] (DEBUG INFO) Executor start aborting (this does not indicate an error and you can ignore this message): INVALID_ARGUMENT: You must feed a value for placeholder tensor 'inputs' with dtype float and shape [?,64]\n",
      "\t [[{{node inputs}}]]\n"
     ]
    },
    {
     "name": "stdout",
     "output_type": "stream",
     "text": [
      "42/42 [==============================] - 0s 218us/step\n",
      "epoch: 4 -r2 score: 0.6985873693196692\n",
      "167/167 [==============================] - 0s 2ms/step - loss: 0.0072 - mse: 0.0072 - mae: 0.0559 - val_loss: 0.0070 - val_mse: 0.0070 - val_mae: 0.0483\n",
      "Epoch 6/200\n",
      "42/42 [==============================] - 0s 205us/steposs: 0.0067 - mse: 0.0067 - mae: 0.05\n",
      "epoch: 5 -r2 score: 0.6912696663447044\n",
      "167/167 [==============================] - 0s 719us/step - loss: 0.0067 - mse: 0.0067 - mae: 0.0539 - val_loss: 0.0072 - val_mse: 0.0072 - val_mae: 0.0492\n",
      "Epoch 7/200\n",
      "114/167 [===================>..........] - ETA: 0s - loss: 0.0067 - mse: 0.0067 - mae: 0.0535INFO:tensorflow:Assets written to: models/model-007.model/assets\n",
      " 1/42 [..............................] - ETA: 0s"
     ]
    },
    {
     "name": "stderr",
     "output_type": "stream",
     "text": [
      "2024-07-19 05:15:08.639575: I tensorflow/core/common_runtime/executor.cc:1197] [/device:CPU:0] (DEBUG INFO) Executor start aborting (this does not indicate an error and you can ignore this message): INVALID_ARGUMENT: You must feed a value for placeholder tensor 'inputs' with dtype float and shape [?,128]\n",
      "\t [[{{node inputs}}]]\n",
      "2024-07-19 05:15:08.643701: I tensorflow/core/common_runtime/executor.cc:1197] [/device:CPU:0] (DEBUG INFO) Executor start aborting (this does not indicate an error and you can ignore this message): INVALID_ARGUMENT: You must feed a value for placeholder tensor 'inputs' with dtype float and shape [?,64]\n",
      "\t [[{{node inputs}}]]\n",
      "2024-07-19 05:15:08.689259: I tensorflow/core/common_runtime/executor.cc:1197] [/device:CPU:0] (DEBUG INFO) Executor start aborting (this does not indicate an error and you can ignore this message): INVALID_ARGUMENT: You must feed a value for placeholder tensor 'inputs' with dtype float and shape [?,128]\n",
      "\t [[{{node inputs}}]]\n",
      "2024-07-19 05:15:08.698256: I tensorflow/core/common_runtime/executor.cc:1197] [/device:CPU:0] (DEBUG INFO) Executor start aborting (this does not indicate an error and you can ignore this message): INVALID_ARGUMENT: You must feed a value for placeholder tensor 'inputs' with dtype float and shape [?,64]\n",
      "\t [[{{node inputs}}]]\n"
     ]
    },
    {
     "name": "stdout",
     "output_type": "stream",
     "text": [
      "42/42 [==============================] - 0s 213us/step\n",
      "epoch: 6 -r2 score: 0.7393970165330841\n",
      "167/167 [==============================] - 0s 2ms/step - loss: 0.0064 - mse: 0.0064 - mae: 0.0528 - val_loss: 0.0061 - val_mse: 0.0061 - val_mae: 0.0451\n",
      "Epoch 8/200\n",
      "113/167 [===================>..........] - ETA: 0s - loss: 0.0058 - mse: 0.0058 - mae: 0.0502INFO:tensorflow:Assets written to: models/model-008.model/assets\n",
      " 1/42 [..............................] - ETA: 0s"
     ]
    },
    {
     "name": "stderr",
     "output_type": "stream",
     "text": [
      "2024-07-19 05:15:08.994161: I tensorflow/core/common_runtime/executor.cc:1197] [/device:CPU:0] (DEBUG INFO) Executor start aborting (this does not indicate an error and you can ignore this message): INVALID_ARGUMENT: You must feed a value for placeholder tensor 'inputs' with dtype float and shape [?,128]\n",
      "\t [[{{node inputs}}]]\n",
      "2024-07-19 05:15:08.998912: I tensorflow/core/common_runtime/executor.cc:1197] [/device:CPU:0] (DEBUG INFO) Executor start aborting (this does not indicate an error and you can ignore this message): INVALID_ARGUMENT: You must feed a value for placeholder tensor 'inputs' with dtype float and shape [?,64]\n",
      "\t [[{{node inputs}}]]\n",
      "2024-07-19 05:15:09.044562: I tensorflow/core/common_runtime/executor.cc:1197] [/device:CPU:0] (DEBUG INFO) Executor start aborting (this does not indicate an error and you can ignore this message): INVALID_ARGUMENT: You must feed a value for placeholder tensor 'inputs' with dtype float and shape [?,128]\n",
      "\t [[{{node inputs}}]]\n",
      "2024-07-19 05:15:09.053673: I tensorflow/core/common_runtime/executor.cc:1197] [/device:CPU:0] (DEBUG INFO) Executor start aborting (this does not indicate an error and you can ignore this message): INVALID_ARGUMENT: You must feed a value for placeholder tensor 'inputs' with dtype float and shape [?,64]\n",
      "\t [[{{node inputs}}]]\n"
     ]
    },
    {
     "name": "stdout",
     "output_type": "stream",
     "text": [
      "42/42 [==============================] - 0s 217us/step\n",
      "epoch: 7 -r2 score: 0.7689499479254718\n",
      "167/167 [==============================] - 0s 2ms/step - loss: 0.0060 - mse: 0.0060 - mae: 0.0510 - val_loss: 0.0054 - val_mse: 0.0054 - val_mae: 0.0435\n",
      "Epoch 9/200\n",
      "42/42 [==============================] - 0s 199us/steposs: 0.0061 - mse: 0.0061 - mae: 0.05\n",
      "epoch: 8 -r2 score: 0.6998913434411074\n",
      "167/167 [==============================] - 0s 705us/step - loss: 0.0060 - mse: 0.0060 - mae: 0.0504 - val_loss: 0.0070 - val_mse: 0.0070 - val_mae: 0.0480\n",
      "Epoch 10/200\n",
      "111/167 [==================>...........] - ETA: 0s - loss: 0.0055 - mse: 0.0055 - mae: 0.0485INFO:tensorflow:Assets written to: models/model-010.model/assets\n",
      " 1/42 [..............................] - ETA: 0s"
     ]
    },
    {
     "name": "stderr",
     "output_type": "stream",
     "text": [
      "2024-07-19 05:15:09.468149: I tensorflow/core/common_runtime/executor.cc:1197] [/device:CPU:0] (DEBUG INFO) Executor start aborting (this does not indicate an error and you can ignore this message): INVALID_ARGUMENT: You must feed a value for placeholder tensor 'inputs' with dtype float and shape [?,128]\n",
      "\t [[{{node inputs}}]]\n",
      "2024-07-19 05:15:09.473034: I tensorflow/core/common_runtime/executor.cc:1197] [/device:CPU:0] (DEBUG INFO) Executor start aborting (this does not indicate an error and you can ignore this message): INVALID_ARGUMENT: You must feed a value for placeholder tensor 'inputs' with dtype float and shape [?,64]\n",
      "\t [[{{node inputs}}]]\n",
      "2024-07-19 05:15:09.519963: I tensorflow/core/common_runtime/executor.cc:1197] [/device:CPU:0] (DEBUG INFO) Executor start aborting (this does not indicate an error and you can ignore this message): INVALID_ARGUMENT: You must feed a value for placeholder tensor 'inputs' with dtype float and shape [?,128]\n",
      "\t [[{{node inputs}}]]\n",
      "2024-07-19 05:15:09.529353: I tensorflow/core/common_runtime/executor.cc:1197] [/device:CPU:0] (DEBUG INFO) Executor start aborting (this does not indicate an error and you can ignore this message): INVALID_ARGUMENT: You must feed a value for placeholder tensor 'inputs' with dtype float and shape [?,64]\n",
      "\t [[{{node inputs}}]]\n"
     ]
    },
    {
     "name": "stdout",
     "output_type": "stream",
     "text": [
      "42/42 [==============================] - 0s 213us/step\n",
      "epoch: 9 -r2 score: 0.785797234796587\n",
      "167/167 [==============================] - 0s 2ms/step - loss: 0.0054 - mse: 0.0054 - mae: 0.0477 - val_loss: 0.0050 - val_mse: 0.0050 - val_mae: 0.0406\n",
      "Epoch 11/200\n",
      "42/42 [==============================] - 0s 199us/steposs: 0.0052 - mse: 0.0052 - mae: 0.04\n",
      "epoch: 10 -r2 score: 0.7710332350695789\n",
      "167/167 [==============================] - 0s 703us/step - loss: 0.0053 - mse: 0.0053 - mae: 0.0473 - val_loss: 0.0053 - val_mse: 0.0053 - val_mae: 0.0422\n",
      "Epoch 12/200\n",
      "42/42 [==============================] - 0s 200us/steposs: 0.0057 - mse: 0.0057 - mae: 0.04\n",
      "epoch: 11 -r2 score: 0.7772094293291171\n",
      "167/167 [==============================] - 0s 705us/step - loss: 0.0053 - mse: 0.0053 - mae: 0.0470 - val_loss: 0.0052 - val_mse: 0.0052 - val_mae: 0.0416\n",
      "Epoch 13/200\n",
      "114/167 [===================>..........] - ETA: 0s - loss: 0.0050 - mse: 0.0050 - mae: 0.0460INFO:tensorflow:Assets written to: models/model-013.model/assets\n",
      " 1/42 [..............................] - ETA: 0s"
     ]
    },
    {
     "name": "stderr",
     "output_type": "stream",
     "text": [
      "2024-07-19 05:15:10.061441: I tensorflow/core/common_runtime/executor.cc:1197] [/device:CPU:0] (DEBUG INFO) Executor start aborting (this does not indicate an error and you can ignore this message): INVALID_ARGUMENT: You must feed a value for placeholder tensor 'inputs' with dtype float and shape [?,128]\n",
      "\t [[{{node inputs}}]]\n",
      "2024-07-19 05:15:10.065529: I tensorflow/core/common_runtime/executor.cc:1197] [/device:CPU:0] (DEBUG INFO) Executor start aborting (this does not indicate an error and you can ignore this message): INVALID_ARGUMENT: You must feed a value for placeholder tensor 'inputs' with dtype float and shape [?,64]\n",
      "\t [[{{node inputs}}]]\n",
      "2024-07-19 05:15:10.112310: I tensorflow/core/common_runtime/executor.cc:1197] [/device:CPU:0] (DEBUG INFO) Executor start aborting (this does not indicate an error and you can ignore this message): INVALID_ARGUMENT: You must feed a value for placeholder tensor 'inputs' with dtype float and shape [?,128]\n",
      "\t [[{{node inputs}}]]\n",
      "2024-07-19 05:15:10.121950: I tensorflow/core/common_runtime/executor.cc:1197] [/device:CPU:0] (DEBUG INFO) Executor start aborting (this does not indicate an error and you can ignore this message): INVALID_ARGUMENT: You must feed a value for placeholder tensor 'inputs' with dtype float and shape [?,64]\n",
      "\t [[{{node inputs}}]]\n"
     ]
    },
    {
     "name": "stdout",
     "output_type": "stream",
     "text": [
      "42/42 [==============================] - 0s 210us/step\n",
      "epoch: 12 -r2 score: 0.8122816123118866\n",
      "167/167 [==============================] - 0s 2ms/step - loss: 0.0050 - mse: 0.0050 - mae: 0.0455 - val_loss: 0.0044 - val_mse: 0.0044 - val_mae: 0.0386\n",
      "Epoch 14/200\n",
      "42/42 [==============================] - 0s 199us/steposs: 0.0052 - mse: 0.0052 - mae: 0.04\n",
      "epoch: 13 -r2 score: 0.735534856341544\n",
      "167/167 [==============================] - 0s 700us/step - loss: 0.0050 - mse: 0.0050 - mae: 0.0452 - val_loss: 0.0062 - val_mse: 0.0062 - val_mae: 0.0451\n",
      "Epoch 15/200\n",
      "42/42 [==============================] - 0s 203us/steposs: 0.0053 - mse: 0.0053 - mae: 0.04\n",
      "epoch: 14 -r2 score: 0.8046369629015665\n",
      "167/167 [==============================] - 0s 703us/step - loss: 0.0049 - mse: 0.0049 - mae: 0.0451 - val_loss: 0.0046 - val_mse: 0.0046 - val_mae: 0.0381\n",
      "Epoch 16/200\n",
      "42/42 [==============================] - 0s 205us/steposs: 0.0044 - mse: 0.0044 - mae: 0.04\n",
      "epoch: 15 -r2 score: 0.766365790834338\n",
      "167/167 [==============================] - 0s 708us/step - loss: 0.0047 - mse: 0.0047 - mae: 0.0443 - val_loss: 0.0055 - val_mse: 0.0055 - val_mae: 0.0412\n",
      "Epoch 17/200\n",
      "113/167 [===================>..........] - ETA: 0s - loss: 0.0045 - mse: 0.0045 - mae: 0.0431"
     ]
    },
    {
     "name": "stderr",
     "output_type": "stream",
     "text": [
      "2024-07-19 05:15:10.771511: I tensorflow/core/common_runtime/executor.cc:1197] [/device:CPU:0] (DEBUG INFO) Executor start aborting (this does not indicate an error and you can ignore this message): INVALID_ARGUMENT: You must feed a value for placeholder tensor 'inputs' with dtype float and shape [?,128]\n",
      "\t [[{{node inputs}}]]\n",
      "2024-07-19 05:15:10.775815: I tensorflow/core/common_runtime/executor.cc:1197] [/device:CPU:0] (DEBUG INFO) Executor start aborting (this does not indicate an error and you can ignore this message): INVALID_ARGUMENT: You must feed a value for placeholder tensor 'inputs' with dtype float and shape [?,64]\n",
      "\t [[{{node inputs}}]]\n",
      "2024-07-19 05:15:10.821916: I tensorflow/core/common_runtime/executor.cc:1197] [/device:CPU:0] (DEBUG INFO) Executor start aborting (this does not indicate an error and you can ignore this message): INVALID_ARGUMENT: You must feed a value for placeholder tensor 'inputs' with dtype float and shape [?,128]\n",
      "\t [[{{node inputs}}]]\n",
      "2024-07-19 05:15:10.831530: I tensorflow/core/common_runtime/executor.cc:1197] [/device:CPU:0] (DEBUG INFO) Executor start aborting (this does not indicate an error and you can ignore this message): INVALID_ARGUMENT: You must feed a value for placeholder tensor 'inputs' with dtype float and shape [?,64]\n",
      "\t [[{{node inputs}}]]\n"
     ]
    },
    {
     "name": "stdout",
     "output_type": "stream",
     "text": [
      "INFO:tensorflow:Assets written to: models/model-017.model/assets\n",
      "42/42 [==============================] - 0s 210us/step\n",
      "epoch: 16 -r2 score: 0.8380545371694887\n",
      "167/167 [==============================] - 0s 3ms/step - loss: 0.0047 - mse: 0.0047 - mae: 0.0438 - val_loss: 0.0038 - val_mse: 0.0038 - val_mae: 0.0365\n",
      "Epoch 18/200\n",
      "42/42 [==============================] - 0s 203us/steposs: 0.0045 - mse: 0.0045 - mae: 0.04\n",
      "epoch: 17 -r2 score: 0.8204791380013098\n",
      "167/167 [==============================] - 0s 697us/step - loss: 0.0045 - mse: 0.0045 - mae: 0.0437 - val_loss: 0.0042 - val_mse: 0.0042 - val_mae: 0.0370\n",
      "Epoch 19/200\n",
      "42/42 [==============================] - 0s 199us/steposs: 0.0046 - mse: 0.0046 - mae: 0.04\n",
      "epoch: 18 -r2 score: 0.8367145160264887\n",
      "167/167 [==============================] - 0s 701us/step - loss: 0.0045 - mse: 0.0045 - mae: 0.0433 - val_loss: 0.0038 - val_mse: 0.0038 - val_mae: 0.0369\n",
      "Epoch 20/200\n",
      "42/42 [==============================] - 0s 202us/steposs: 0.0046 - mse: 0.0046 - mae: 0.04\n",
      "epoch: 19 -r2 score: 0.8355327753024766\n",
      "167/167 [==============================] - 0s 694us/step - loss: 0.0046 - mse: 0.0046 - mae: 0.0432 - val_loss: 0.0038 - val_mse: 0.0038 - val_mae: 0.0370\n",
      "Epoch 21/200\n",
      "42/42 [==============================] - 0s 201us/steposs: 0.0044 - mse: 0.0044 - mae: 0.04\n",
      "epoch: 20 -r2 score: 0.8325443395429778\n",
      "167/167 [==============================] - 0s 693us/step - loss: 0.0044 - mse: 0.0044 - mae: 0.0433 - val_loss: 0.0039 - val_mse: 0.0039 - val_mae: 0.0358\n",
      "Epoch 22/200\n",
      "42/42 [==============================] - 0s 211us/steposs: 0.0045 - mse: 0.0045 - mae: 0.04\n",
      "epoch: 21 -r2 score: 0.8312922574899335\n",
      "167/167 [==============================] - 0s 905us/step - loss: 0.0045 - mse: 0.0045 - mae: 0.0435 - val_loss: 0.0039 - val_mse: 0.0039 - val_mae: 0.0361\n",
      "Epoch 23/200\n",
      "110/167 [==================>...........] - ETA: 0s - loss: 0.0042 - mse: 0.0042 - mae: 0.0422INFO:tensorflow:Assets written to: models/model-023.model/assets\n",
      " 1/42 [..............................] - ETA: 0s"
     ]
    },
    {
     "name": "stderr",
     "output_type": "stream",
     "text": [
      "2024-07-19 05:15:11.877199: I tensorflow/core/common_runtime/executor.cc:1197] [/device:CPU:0] (DEBUG INFO) Executor start aborting (this does not indicate an error and you can ignore this message): INVALID_ARGUMENT: You must feed a value for placeholder tensor 'inputs' with dtype float and shape [?,128]\n",
      "\t [[{{node inputs}}]]\n",
      "2024-07-19 05:15:11.881290: I tensorflow/core/common_runtime/executor.cc:1197] [/device:CPU:0] (DEBUG INFO) Executor start aborting (this does not indicate an error and you can ignore this message): INVALID_ARGUMENT: You must feed a value for placeholder tensor 'inputs' with dtype float and shape [?,64]\n",
      "\t [[{{node inputs}}]]\n",
      "2024-07-19 05:15:11.928202: I tensorflow/core/common_runtime/executor.cc:1197] [/device:CPU:0] (DEBUG INFO) Executor start aborting (this does not indicate an error and you can ignore this message): INVALID_ARGUMENT: You must feed a value for placeholder tensor 'inputs' with dtype float and shape [?,128]\n",
      "\t [[{{node inputs}}]]\n",
      "2024-07-19 05:15:11.937306: I tensorflow/core/common_runtime/executor.cc:1197] [/device:CPU:0] (DEBUG INFO) Executor start aborting (this does not indicate an error and you can ignore this message): INVALID_ARGUMENT: You must feed a value for placeholder tensor 'inputs' with dtype float and shape [?,64]\n",
      "\t [[{{node inputs}}]]\n"
     ]
    },
    {
     "name": "stdout",
     "output_type": "stream",
     "text": [
      "42/42 [==============================] - 0s 215us/step\n",
      "epoch: 22 -r2 score: 0.8478196841529754\n",
      "167/167 [==============================] - 0s 2ms/step - loss: 0.0044 - mse: 0.0044 - mae: 0.0426 - val_loss: 0.0036 - val_mse: 0.0036 - val_mae: 0.0363\n",
      "Epoch 24/200\n",
      "42/42 [==============================] - 0s 203us/steposs: 0.0041 - mse: 0.0041 - mae: 0.04\n",
      "epoch: 23 -r2 score: 0.8413213171548167\n",
      "167/167 [==============================] - 0s 698us/step - loss: 0.0042 - mse: 0.0042 - mae: 0.0414 - val_loss: 0.0037 - val_mse: 0.0037 - val_mae: 0.0366\n",
      "Epoch 25/200\n",
      "42/42 [==============================] - 0s 200us/steposs: 0.0042 - mse: 0.0042 - mae: 0.04\n",
      "epoch: 24 -r2 score: 0.8007563872958193\n",
      "167/167 [==============================] - 0s 698us/step - loss: 0.0042 - mse: 0.0042 - mae: 0.0422 - val_loss: 0.0046 - val_mse: 0.0046 - val_mae: 0.0387\n",
      "Epoch 26/200\n",
      "114/167 [===================>..........] - ETA: 0s - loss: 0.0041 - mse: 0.0041 - mae: 0.0417INFO:tensorflow:Assets written to: models/model-026.model/assets\n",
      " 1/42 [..............................] - ETA: 0s"
     ]
    },
    {
     "name": "stderr",
     "output_type": "stream",
     "text": [
      "2024-07-19 05:15:12.465849: I tensorflow/core/common_runtime/executor.cc:1197] [/device:CPU:0] (DEBUG INFO) Executor start aborting (this does not indicate an error and you can ignore this message): INVALID_ARGUMENT: You must feed a value for placeholder tensor 'inputs' with dtype float and shape [?,128]\n",
      "\t [[{{node inputs}}]]\n",
      "2024-07-19 05:15:12.470188: I tensorflow/core/common_runtime/executor.cc:1197] [/device:CPU:0] (DEBUG INFO) Executor start aborting (this does not indicate an error and you can ignore this message): INVALID_ARGUMENT: You must feed a value for placeholder tensor 'inputs' with dtype float and shape [?,64]\n",
      "\t [[{{node inputs}}]]\n",
      "2024-07-19 05:15:12.516906: I tensorflow/core/common_runtime/executor.cc:1197] [/device:CPU:0] (DEBUG INFO) Executor start aborting (this does not indicate an error and you can ignore this message): INVALID_ARGUMENT: You must feed a value for placeholder tensor 'inputs' with dtype float and shape [?,128]\n",
      "\t [[{{node inputs}}]]\n",
      "2024-07-19 05:15:12.526216: I tensorflow/core/common_runtime/executor.cc:1197] [/device:CPU:0] (DEBUG INFO) Executor start aborting (this does not indicate an error and you can ignore this message): INVALID_ARGUMENT: You must feed a value for placeholder tensor 'inputs' with dtype float and shape [?,64]\n",
      "\t [[{{node inputs}}]]\n"
     ]
    },
    {
     "name": "stdout",
     "output_type": "stream",
     "text": [
      "42/42 [==============================] - 0s 216us/step\n",
      "epoch: 25 -r2 score: 0.853292478519911\n",
      "167/167 [==============================] - 0s 2ms/step - loss: 0.0041 - mse: 0.0041 - mae: 0.0417 - val_loss: 0.0034 - val_mse: 0.0034 - val_mae: 0.0367\n",
      "Epoch 27/200\n",
      "42/42 [==============================] - 0s 197us/steposs: 0.0041 - mse: 0.0041 - mae: 0.04\n",
      "epoch: 26 -r2 score: 0.8470937561170478\n",
      "167/167 [==============================] - 0s 708us/step - loss: 0.0040 - mse: 0.0040 - mae: 0.0410 - val_loss: 0.0036 - val_mse: 0.0036 - val_mae: 0.0355\n",
      "Epoch 28/200\n",
      "42/42 [==============================] - 0s 200us/steposs: 0.0040 - mse: 0.0040 - mae: 0.04\n",
      "epoch: 27 -r2 score: 0.8380399281989735\n",
      "167/167 [==============================] - 0s 704us/step - loss: 0.0042 - mse: 0.0042 - mae: 0.0415 - val_loss: 0.0038 - val_mse: 0.0038 - val_mae: 0.0354\n",
      "Epoch 29/200\n",
      "42/42 [==============================] - 0s 206us/steposs: 0.0038 - mse: 0.0038 - mae: 0.03\n",
      "epoch: 28 -r2 score: 0.8335641230147839\n",
      "167/167 [==============================] - 0s 710us/step - loss: 0.0039 - mse: 0.0039 - mae: 0.0401 - val_loss: 0.0039 - val_mse: 0.0039 - val_mae: 0.0362\n",
      "Epoch 30/200\n",
      "42/42 [==============================] - 0s 199us/steposs: 0.0037 - mse: 0.0037 - mae: 0.03\n",
      "epoch: 29 -r2 score: 0.841023716986002\n",
      "167/167 [==============================] - 0s 701us/step - loss: 0.0039 - mse: 0.0039 - mae: 0.0401 - val_loss: 0.0037 - val_mse: 0.0037 - val_mae: 0.0347\n",
      "Epoch 31/200\n",
      "42/42 [==============================] - 0s 199us/steposs: 0.0039 - mse: 0.0039 - mae: 0.04\n",
      "epoch: 30 -r2 score: 0.8482823331368918\n",
      "167/167 [==============================] - 0s 701us/step - loss: 0.0039 - mse: 0.0039 - mae: 0.0404 - val_loss: 0.0035 - val_mse: 0.0035 - val_mae: 0.0370\n",
      "Epoch 32/200\n",
      "42/42 [==============================] - 0s 195us/steposs: 0.0038 - mse: 0.0038 - mae: 0.04\n",
      "epoch: 31 -r2 score: 0.8304815546980712\n",
      "167/167 [==============================] - 0s 705us/step - loss: 0.0040 - mse: 0.0040 - mae: 0.0407 - val_loss: 0.0040 - val_mse: 0.0040 - val_mae: 0.0371\n",
      "Epoch 33/200\n",
      "42/42 [==============================] - 0s 200us/steposs: 0.0039 - mse: 0.0039 - mae: 0.04\n",
      "epoch: 32 -r2 score: 0.84340766622054\n",
      "167/167 [==============================] - 0s 697us/step - loss: 0.0040 - mse: 0.0040 - mae: 0.0406 - val_loss: 0.0037 - val_mse: 0.0037 - val_mae: 0.0354\n",
      "Epoch 34/200\n",
      "114/167 [===================>..........] - ETA: 0s - loss: 0.0039 - mse: 0.0039 - mae: 0.0405INFO:tensorflow:Assets written to: models/model-034.model/assets\n",
      " 1/42 [..............................] - ETA: 0s"
     ]
    },
    {
     "name": "stderr",
     "output_type": "stream",
     "text": [
      "2024-07-19 05:15:13.649003: I tensorflow/core/common_runtime/executor.cc:1197] [/device:CPU:0] (DEBUG INFO) Executor start aborting (this does not indicate an error and you can ignore this message): INVALID_ARGUMENT: You must feed a value for placeholder tensor 'inputs' with dtype float and shape [?,128]\n",
      "\t [[{{node inputs}}]]\n",
      "2024-07-19 05:15:13.653032: I tensorflow/core/common_runtime/executor.cc:1197] [/device:CPU:0] (DEBUG INFO) Executor start aborting (this does not indicate an error and you can ignore this message): INVALID_ARGUMENT: You must feed a value for placeholder tensor 'inputs' with dtype float and shape [?,64]\n",
      "\t [[{{node inputs}}]]\n",
      "2024-07-19 05:15:13.699275: I tensorflow/core/common_runtime/executor.cc:1197] [/device:CPU:0] (DEBUG INFO) Executor start aborting (this does not indicate an error and you can ignore this message): INVALID_ARGUMENT: You must feed a value for placeholder tensor 'inputs' with dtype float and shape [?,128]\n",
      "\t [[{{node inputs}}]]\n",
      "2024-07-19 05:15:13.708543: I tensorflow/core/common_runtime/executor.cc:1197] [/device:CPU:0] (DEBUG INFO) Executor start aborting (this does not indicate an error and you can ignore this message): INVALID_ARGUMENT: You must feed a value for placeholder tensor 'inputs' with dtype float and shape [?,64]\n",
      "\t [[{{node inputs}}]]\n"
     ]
    },
    {
     "name": "stdout",
     "output_type": "stream",
     "text": [
      "42/42 [==============================] - 0s 215us/step\n",
      "epoch: 33 -r2 score: 0.862631169880829\n",
      "167/167 [==============================] - 0s 2ms/step - loss: 0.0040 - mse: 0.0040 - mae: 0.0404 - val_loss: 0.0032 - val_mse: 0.0032 - val_mae: 0.0347\n",
      "Epoch 35/200\n",
      "42/42 [==============================] - 0s 200us/steposs: 0.0039 - mse: 0.0039 - mae: 0.04\n",
      "epoch: 34 -r2 score: 0.832605786693973\n",
      "167/167 [==============================] - 0s 702us/step - loss: 0.0038 - mse: 0.0038 - mae: 0.0400 - val_loss: 0.0039 - val_mse: 0.0039 - val_mae: 0.0357\n",
      "Epoch 36/200\n",
      "42/42 [==============================] - 0s 199us/steposs: 0.0038 - mse: 0.0038 - mae: 0.03\n",
      "epoch: 35 -r2 score: 0.8520332714581796\n",
      "167/167 [==============================] - 0s 701us/step - loss: 0.0039 - mse: 0.0039 - mae: 0.0395 - val_loss: 0.0035 - val_mse: 0.0035 - val_mae: 0.0364\n",
      "Epoch 37/200\n",
      "42/42 [==============================] - 0s 200us/steposs: 0.0036 - mse: 0.0036 - mae: 0.03\n",
      "epoch: 36 -r2 score: 0.857752205128289\n",
      "167/167 [==============================] - 0s 700us/step - loss: 0.0039 - mse: 0.0039 - mae: 0.0394 - val_loss: 0.0033 - val_mse: 0.0033 - val_mae: 0.0354\n",
      "Epoch 38/200\n",
      "42/42 [==============================] - 0s 200us/steposs: 0.0039 - mse: 0.0039 - mae: 0.04\n",
      "epoch: 37 -r2 score: 0.8414263326640541\n",
      "167/167 [==============================] - 0s 700us/step - loss: 0.0038 - mse: 0.0038 - mae: 0.0398 - val_loss: 0.0037 - val_mse: 0.0037 - val_mae: 0.0352\n",
      "Epoch 39/200\n",
      "42/42 [==============================] - 0s 198us/steposs: 0.0043 - mse: 0.0043 - mae: 0.04\n",
      "epoch: 38 -r2 score: 0.8390520173419298\n",
      "167/167 [==============================] - 0s 697us/step - loss: 0.0039 - mse: 0.0039 - mae: 0.0400 - val_loss: 0.0038 - val_mse: 0.0038 - val_mae: 0.0349\n",
      "Epoch 40/200\n",
      "42/42 [==============================] - 0s 197us/steposs: 0.0037 - mse: 0.0037 - mae: 0.03\n",
      "epoch: 39 -r2 score: 0.8543891067643452\n",
      "167/167 [==============================] - 0s 700us/step - loss: 0.0039 - mse: 0.0039 - mae: 0.0398 - val_loss: 0.0034 - val_mse: 0.0034 - val_mae: 0.0350\n",
      "Epoch 41/200\n",
      "42/42 [==============================] - 0s 200us/steposs: 0.0039 - mse: 0.0039 - mae: 0.03\n",
      "epoch: 40 -r2 score: 0.8614342206735537\n",
      "167/167 [==============================] - 0s 697us/step - loss: 0.0038 - mse: 0.0038 - mae: 0.0397 - val_loss: 0.0032 - val_mse: 0.0032 - val_mae: 0.0344\n",
      "Epoch 42/200\n",
      "42/42 [==============================] - 0s 200us/steposs: 0.0040 - mse: 0.0040 - mae: 0.03\n",
      "epoch: 41 -r2 score: 0.8528554344486612\n",
      "167/167 [==============================] - 0s 711us/step - loss: 0.0039 - mse: 0.0039 - mae: 0.0400 - val_loss: 0.0034 - val_mse: 0.0034 - val_mae: 0.0364\n",
      "Epoch 43/200\n",
      "42/42 [==============================] - 0s 197us/steposs: 0.0039 - mse: 0.0039 - mae: 0.03\n",
      "epoch: 42 -r2 score: 0.8544062335119835\n",
      "167/167 [==============================] - 0s 700us/step - loss: 0.0038 - mse: 0.0038 - mae: 0.0396 - val_loss: 0.0034 - val_mse: 0.0034 - val_mae: 0.0361\n",
      "Epoch 44/200\n",
      "42/42 [==============================] - 0s 200us/steposs: 0.0036 - mse: 0.0036 - mae: 0.03\n",
      "epoch: 43 -r2 score: 0.8507530233396267\n",
      "167/167 [==============================] - 0s 703us/step - loss: 0.0037 - mse: 0.0037 - mae: 0.0389 - val_loss: 0.0035 - val_mse: 0.0035 - val_mae: 0.0357\n",
      "Epoch 45/200\n",
      "42/42 [==============================] - 0s 195us/steposs: 0.0038 - mse: 0.0038 - mae: 0.03\n",
      "epoch: 44 -r2 score: 0.8439410331888392\n",
      "167/167 [==============================] - 0s 705us/step - loss: 0.0038 - mse: 0.0038 - mae: 0.0399 - val_loss: 0.0036 - val_mse: 0.0036 - val_mae: 0.0350\n",
      "Epoch 46/200\n",
      "42/42 [==============================] - 0s 198us/steposs: 0.0037 - mse: 0.0037 - mae: 0.03\n",
      "epoch: 45 -r2 score: 0.8523684625000897\n",
      "167/167 [==============================] - 0s 700us/step - loss: 0.0038 - mse: 0.0038 - mae: 0.0392 - val_loss: 0.0034 - val_mse: 0.0034 - val_mae: 0.0337\n",
      "Epoch 47/200\n",
      "42/42 [==============================] - 0s 195us/steposs: 0.0036 - mse: 0.0036 - mae: 0.03\n",
      "epoch: 46 -r2 score: 0.8563949507610027\n",
      "167/167 [==============================] - 0s 704us/step - loss: 0.0036 - mse: 0.0036 - mae: 0.0383 - val_loss: 0.0034 - val_mse: 0.0034 - val_mae: 0.0340\n",
      "Epoch 48/200\n",
      "42/42 [==============================] - 0s 197us/steposs: 0.0039 - mse: 0.0039 - mae: 0.03\n",
      "epoch: 47 -r2 score: 0.8555884289988946\n",
      "167/167 [==============================] - 0s 695us/step - loss: 0.0037 - mse: 0.0037 - mae: 0.0386 - val_loss: 0.0034 - val_mse: 0.0034 - val_mae: 0.0357\n",
      "Epoch 49/200\n",
      "42/42 [==============================] - 0s 203us/steposs: 0.0037 - mse: 0.0037 - mae: 0.03\n",
      "epoch: 48 -r2 score: 0.8620713085014907\n",
      "167/167 [==============================] - 0s 715us/step - loss: 0.0037 - mse: 0.0037 - mae: 0.0388 - val_loss: 0.0032 - val_mse: 0.0032 - val_mae: 0.0335\n",
      "Epoch 50/200\n",
      "42/42 [==============================] - 0s 199us/steposs: 0.0037 - mse: 0.0037 - mae: 0.03\n",
      "epoch: 49 -r2 score: 0.8420975552765131\n",
      "167/167 [==============================] - 0s 702us/step - loss: 0.0037 - mse: 0.0037 - mae: 0.0388 - val_loss: 0.0037 - val_mse: 0.0037 - val_mae: 0.0351\n",
      "Epoch 51/200\n",
      "42/42 [==============================] - 0s 203us/steposs: 0.0035 - mse: 0.0035 - mae: 0.03\n",
      "epoch: 50 -r2 score: 0.8573989749390505\n",
      "167/167 [==============================] - 0s 704us/step - loss: 0.0037 - mse: 0.0037 - mae: 0.0391 - val_loss: 0.0033 - val_mse: 0.0033 - val_mae: 0.0351\n",
      "Epoch 52/200\n",
      "42/42 [==============================] - 0s 211us/steposs: 0.0038 - mse: 0.0038 - mae: 0.03\n",
      "epoch: 51 -r2 score: 0.8563047862783141\n",
      "167/167 [==============================] - 0s 925us/step - loss: 0.0038 - mse: 0.0038 - mae: 0.0393 - val_loss: 0.0034 - val_mse: 0.0034 - val_mae: 0.0337\n",
      "Epoch 53/200\n",
      "42/42 [==============================] - 0s 198us/steposs: 0.0039 - mse: 0.0039 - mae: 0.03\n",
      "epoch: 52 -r2 score: 0.8290289773547275\n",
      "167/167 [==============================] - 0s 729us/step - loss: 0.0039 - mse: 0.0039 - mae: 0.0395 - val_loss: 0.0040 - val_mse: 0.0040 - val_mae: 0.0355\n",
      "Epoch 54/200\n",
      "42/42 [==============================] - 0s 205us/steposs: 0.0040 - mse: 0.0040 - mae: 0.03\n",
      "epoch: 53 -r2 score: 0.8570406536825433\n",
      "167/167 [==============================] - 0s 721us/step - loss: 0.0038 - mse: 0.0038 - mae: 0.0389 - val_loss: 0.0033 - val_mse: 0.0033 - val_mae: 0.0354\n",
      "Epoch 55/200\n",
      "42/42 [==============================] - 0s 195us/steposs: 0.0036 - mse: 0.0036 - mae: 0.03\n",
      "epoch: 54 -r2 score: 0.8543163301125835\n",
      "167/167 [==============================] - 0s 717us/step - loss: 0.0038 - mse: 0.0038 - mae: 0.0393 - val_loss: 0.0034 - val_mse: 0.0034 - val_mae: 0.0348\n",
      "Epoch 56/200\n",
      "110/167 [==================>...........] - ETA: 0s - loss: 0.0035 - mse: 0.0035 - mae: 0.0381INFO:tensorflow:Assets written to: models/model-056.model/assets\n",
      " 1/42 [..............................] - ETA: 0s"
     ]
    },
    {
     "name": "stderr",
     "output_type": "stream",
     "text": [
      "2024-07-19 05:15:16.535569: I tensorflow/core/common_runtime/executor.cc:1197] [/device:CPU:0] (DEBUG INFO) Executor start aborting (this does not indicate an error and you can ignore this message): INVALID_ARGUMENT: You must feed a value for placeholder tensor 'inputs' with dtype float and shape [?,128]\n",
      "\t [[{{node inputs}}]]\n",
      "2024-07-19 05:15:16.539660: I tensorflow/core/common_runtime/executor.cc:1197] [/device:CPU:0] (DEBUG INFO) Executor start aborting (this does not indicate an error and you can ignore this message): INVALID_ARGUMENT: You must feed a value for placeholder tensor 'inputs' with dtype float and shape [?,64]\n",
      "\t [[{{node inputs}}]]\n",
      "2024-07-19 05:15:16.586451: I tensorflow/core/common_runtime/executor.cc:1197] [/device:CPU:0] (DEBUG INFO) Executor start aborting (this does not indicate an error and you can ignore this message): INVALID_ARGUMENT: You must feed a value for placeholder tensor 'inputs' with dtype float and shape [?,128]\n",
      "\t [[{{node inputs}}]]\n",
      "2024-07-19 05:15:16.595909: I tensorflow/core/common_runtime/executor.cc:1197] [/device:CPU:0] (DEBUG INFO) Executor start aborting (this does not indicate an error and you can ignore this message): INVALID_ARGUMENT: You must feed a value for placeholder tensor 'inputs' with dtype float and shape [?,64]\n",
      "\t [[{{node inputs}}]]\n"
     ]
    },
    {
     "name": "stdout",
     "output_type": "stream",
     "text": [
      "42/42 [==============================] - 0s 211us/step\n",
      "epoch: 55 -r2 score: 0.8649657326503177\n",
      "167/167 [==============================] - 0s 2ms/step - loss: 0.0036 - mse: 0.0036 - mae: 0.0385 - val_loss: 0.0032 - val_mse: 0.0032 - val_mae: 0.0337\n",
      "Epoch 57/200\n",
      "42/42 [==============================] - 0s 197us/steposs: 0.0035 - mse: 0.0035 - mae: 0.03\n",
      "epoch: 56 -r2 score: 0.8523922043082144\n",
      "167/167 [==============================] - 0s 706us/step - loss: 0.0036 - mse: 0.0036 - mae: 0.0385 - val_loss: 0.0034 - val_mse: 0.0034 - val_mae: 0.0347\n",
      "Epoch 58/200\n",
      "42/42 [==============================] - 0s 197us/steposs: 0.0036 - mse: 0.0036 - mae: 0.03\n",
      "epoch: 57 -r2 score: 0.8432403666032755\n",
      "167/167 [==============================] - 0s 703us/step - loss: 0.0037 - mse: 0.0037 - mae: 0.0388 - val_loss: 0.0037 - val_mse: 0.0037 - val_mae: 0.0346\n",
      "Epoch 59/200\n",
      "42/42 [==============================] - 0s 200us/steposs: 0.0037 - mse: 0.0037 - mae: 0.03\n",
      "epoch: 58 -r2 score: 0.8556239031214126\n",
      "167/167 [==============================] - 0s 708us/step - loss: 0.0036 - mse: 0.0036 - mae: 0.0387 - val_loss: 0.0034 - val_mse: 0.0034 - val_mae: 0.0350\n",
      "Epoch 60/200\n",
      "42/42 [==============================] - 0s 197us/steposs: 0.0036 - mse: 0.0036 - mae: 0.03\n",
      "epoch: 59 -r2 score: 0.857500672898261\n",
      "167/167 [==============================] - 0s 698us/step - loss: 0.0037 - mse: 0.0037 - mae: 0.0389 - val_loss: 0.0033 - val_mse: 0.0033 - val_mae: 0.0355\n",
      "Epoch 61/200\n",
      "42/42 [==============================] - 0s 200us/steposs: 0.0037 - mse: 0.0037 - mae: 0.03\n",
      "epoch: 60 -r2 score: 0.8585040117287045\n",
      "167/167 [==============================] - 0s 702us/step - loss: 0.0036 - mse: 0.0036 - mae: 0.0384 - val_loss: 0.0033 - val_mse: 0.0033 - val_mae: 0.0339\n",
      "Epoch 62/200\n",
      "42/42 [==============================] - 0s 197us/steposs: 0.0034 - mse: 0.0034 - mae: 0.03\n",
      "epoch: 61 -r2 score: 0.8599982552801909\n",
      "167/167 [==============================] - 0s 703us/step - loss: 0.0035 - mse: 0.0035 - mae: 0.0381 - val_loss: 0.0033 - val_mse: 0.0033 - val_mae: 0.0337\n",
      "Epoch 63/200\n",
      "42/42 [==============================] - 0s 198us/steposs: 0.0037 - mse: 0.0037 - mae: 0.03\n",
      "epoch: 62 -r2 score: 0.853882539961553\n",
      "167/167 [==============================] - 0s 696us/step - loss: 0.0037 - mse: 0.0037 - mae: 0.0386 - val_loss: 0.0034 - val_mse: 0.0034 - val_mae: 0.0340\n",
      "Epoch 64/200\n",
      "42/42 [==============================] - 0s 197us/steposs: 0.0036 - mse: 0.0036 - mae: 0.03\n",
      "epoch: 63 -r2 score: 0.8335929396875116\n",
      "167/167 [==============================] - 0s 696us/step - loss: 0.0036 - mse: 0.0036 - mae: 0.0381 - val_loss: 0.0039 - val_mse: 0.0039 - val_mae: 0.0377\n",
      "Epoch 65/200\n",
      "42/42 [==============================] - 0s 202us/steposs: 0.0034 - mse: 0.0034 - mae: 0.03\n",
      "epoch: 64 -r2 score: 0.8534956811870764\n",
      "167/167 [==============================] - 0s 714us/step - loss: 0.0036 - mse: 0.0036 - mae: 0.0388 - val_loss: 0.0034 - val_mse: 0.0034 - val_mae: 0.0350\n",
      "Epoch 66/200\n",
      "42/42 [==============================] - 0s 202us/steposs: 0.0037 - mse: 0.0037 - mae: 0.03\n",
      "epoch: 65 -r2 score: 0.8453754417334072\n",
      "167/167 [==============================] - 0s 712us/step - loss: 0.0037 - mse: 0.0037 - mae: 0.0390 - val_loss: 0.0036 - val_mse: 0.0036 - val_mae: 0.0341\n",
      "Epoch 67/200\n",
      "42/42 [==============================] - 0s 200us/steposs: 0.0036 - mse: 0.0036 - mae: 0.03\n",
      "epoch: 66 -r2 score: 0.8575442969682527\n",
      "167/167 [==============================] - 0s 700us/step - loss: 0.0037 - mse: 0.0037 - mae: 0.0387 - val_loss: 0.0033 - val_mse: 0.0033 - val_mae: 0.0343\n",
      "Epoch 68/200\n",
      "42/42 [==============================] - 0s 198us/steposs: 0.0036 - mse: 0.0036 - mae: 0.03\n",
      "epoch: 67 -r2 score: 0.8514101326888578\n",
      "167/167 [==============================] - 0s 702us/step - loss: 0.0035 - mse: 0.0035 - mae: 0.0385 - val_loss: 0.0035 - val_mse: 0.0035 - val_mae: 0.0342\n",
      "Epoch 69/200\n",
      "42/42 [==============================] - 0s 199us/steposs: 0.0034 - mse: 0.0034 - mae: 0.03\n",
      "epoch: 68 -r2 score: 0.8553476465391598\n",
      "167/167 [==============================] - 0s 698us/step - loss: 0.0036 - mse: 0.0036 - mae: 0.0386 - val_loss: 0.0034 - val_mse: 0.0034 - val_mae: 0.0350\n",
      "Epoch 70/200\n",
      "42/42 [==============================] - 0s 199us/steposs: 0.0036 - mse: 0.0036 - mae: 0.03\n",
      "epoch: 69 -r2 score: 0.8531602035069721\n",
      "167/167 [==============================] - 0s 704us/step - loss: 0.0037 - mse: 0.0037 - mae: 0.0391 - val_loss: 0.0034 - val_mse: 0.0034 - val_mae: 0.0371\n",
      "Epoch 71/200\n",
      "42/42 [==============================] - 0s 197us/steposs: 0.0035 - mse: 0.0035 - mae: 0.03\n",
      "epoch: 70 -r2 score: 0.85892422626349\n",
      "167/167 [==============================] - 0s 696us/step - loss: 0.0035 - mse: 0.0035 - mae: 0.0382 - val_loss: 0.0033 - val_mse: 0.0033 - val_mae: 0.0341\n",
      "Epoch 72/200\n",
      "42/42 [==============================] - 0s 199us/steposs: 0.0034 - mse: 0.0034 - mae: 0.03\n",
      "epoch: 71 -r2 score: 0.8473748081339155\n",
      "167/167 [==============================] - 0s 695us/step - loss: 0.0036 - mse: 0.0036 - mae: 0.0386 - val_loss: 0.0036 - val_mse: 0.0036 - val_mae: 0.0364\n",
      "Epoch 73/200\n",
      "42/42 [==============================] - 0s 198us/steposs: 0.0038 - mse: 0.0038 - mae: 0.03\n",
      "epoch: 72 -r2 score: 0.8575662739002657\n",
      "167/167 [==============================] - 0s 698us/step - loss: 0.0037 - mse: 0.0037 - mae: 0.0386 - val_loss: 0.0033 - val_mse: 0.0033 - val_mae: 0.0346\n",
      "Epoch 74/200\n",
      "42/42 [==============================] - 0s 198us/steposs: 0.0037 - mse: 0.0037 - mae: 0.0388      \n",
      "epoch: 73 -r2 score: 0.8530006865229794\n",
      "167/167 [==============================] - 0s 707us/step - loss: 0.0035 - mse: 0.0035 - mae: 0.0383 - val_loss: 0.0034 - val_mse: 0.0034 - val_mae: 0.0355\n",
      "Epoch 75/200\n",
      "42/42 [==============================] - 0s 198us/steposs: 0.0034 - mse: 0.0034 - mae: 0.03\n",
      "epoch: 74 -r2 score: 0.8521582306697494\n",
      "167/167 [==============================] - 0s 710us/step - loss: 0.0035 - mse: 0.0035 - mae: 0.0376 - val_loss: 0.0034 - val_mse: 0.0034 - val_mae: 0.0357\n",
      "Epoch 76/200\n",
      "42/42 [==============================] - 0s 202us/steposs: 0.0037 - mse: 0.0037 - mae: 0.03\n",
      "epoch: 75 -r2 score: 0.8546274725702753\n",
      "167/167 [==============================] - 0s 721us/step - loss: 0.0036 - mse: 0.0036 - mae: 0.0384 - val_loss: 0.0034 - val_mse: 0.0034 - val_mae: 0.0366\n",
      "Epoch 77/200\n",
      "42/42 [==============================] - 0s 199us/steposs: 0.0035 - mse: 0.0035 - mae: 0.03\n",
      "epoch: 76 -r2 score: 0.8592357439075256\n",
      "167/167 [==============================] - 0s 707us/step - loss: 0.0035 - mse: 0.0035 - mae: 0.0379 - val_loss: 0.0033 - val_mse: 0.0033 - val_mae: 0.0344\n",
      "Epoch 78/200\n",
      "42/42 [==============================] - 0s 196us/steposs: 0.0036 - mse: 0.0036 - mae: 0.03\n",
      "epoch: 77 -r2 score: 0.8524216857812079\n",
      "167/167 [==============================] - 0s 708us/step - loss: 0.0036 - mse: 0.0036 - mae: 0.0381 - val_loss: 0.0034 - val_mse: 0.0034 - val_mae: 0.0349\n",
      "Epoch 79/200\n",
      "42/42 [==============================] - 0s 195us/steposs: 0.0037 - mse: 0.0037 - mae: 0.03\n",
      "epoch: 78 -r2 score: 0.8563966103324009\n",
      "167/167 [==============================] - 0s 705us/step - loss: 0.0036 - mse: 0.0036 - mae: 0.0382 - val_loss: 0.0034 - val_mse: 0.0034 - val_mae: 0.0336\n",
      "Epoch 80/200\n",
      "42/42 [==============================] - 0s 195us/steposs: 0.0038 - mse: 0.0038 - mae: 0.03\n",
      "epoch: 79 -r2 score: 0.8566265461367547\n",
      "167/167 [==============================] - 0s 711us/step - loss: 0.0036 - mse: 0.0036 - mae: 0.0385 - val_loss: 0.0033 - val_mse: 0.0033 - val_mae: 0.0340\n",
      "Epoch 81/200\n",
      "42/42 [==============================] - 0s 201us/steposs: 0.0037 - mse: 0.0037 - mae: 0.03\n",
      "epoch: 80 -r2 score: 0.8610446040938745\n",
      "167/167 [==============================] - 0s 713us/step - loss: 0.0035 - mse: 0.0035 - mae: 0.0380 - val_loss: 0.0032 - val_mse: 0.0032 - val_mae: 0.0359\n",
      "Epoch 82/200\n",
      "42/42 [==============================] - 0s 211us/steposs: 0.0035 - mse: 0.0035 - mae: 0.03\n",
      "epoch: 81 -r2 score: 0.8619632744372596\n",
      "167/167 [==============================] - 0s 919us/step - loss: 0.0034 - mse: 0.0034 - mae: 0.0379 - val_loss: 0.0032 - val_mse: 0.0032 - val_mae: 0.0346\n",
      "Epoch 83/200\n",
      "42/42 [==============================] - 0s 200us/steposs: 0.0038 - mse: 0.0038 - mae: 0.03\n",
      "epoch: 82 -r2 score: 0.8478835553657638\n",
      "167/167 [==============================] - 0s 725us/step - loss: 0.0035 - mse: 0.0035 - mae: 0.0377 - val_loss: 0.0035 - val_mse: 0.0035 - val_mae: 0.0355\n",
      "Epoch 84/200\n",
      "42/42 [==============================] - 0s 194us/steposs: 0.0034 - mse: 0.0034 - mae: 0.03\n",
      "epoch: 83 -r2 score: 0.856055628405799\n",
      "167/167 [==============================] - 0s 710us/step - loss: 0.0035 - mse: 0.0035 - mae: 0.0378 - val_loss: 0.0034 - val_mse: 0.0034 - val_mae: 0.0361\n",
      "Epoch 85/200\n",
      "42/42 [==============================] - 0s 199us/steposs: 0.0036 - mse: 0.0036 - mae: 0.03\n",
      "epoch: 84 -r2 score: 0.8601537392093386\n",
      "167/167 [==============================] - 0s 713us/step - loss: 0.0035 - mse: 0.0035 - mae: 0.0377 - val_loss: 0.0033 - val_mse: 0.0033 - val_mae: 0.0343\n",
      "Epoch 86/200\n",
      "42/42 [==============================] - 0s 201us/steposs: 0.0033 - mse: 0.0033 - mae: 0.03\n",
      "epoch: 85 -r2 score: 0.8593944733543436\n",
      "167/167 [==============================] - 0s 714us/step - loss: 0.0035 - mse: 0.0035 - mae: 0.0376 - val_loss: 0.0033 - val_mse: 0.0033 - val_mae: 0.0348\n",
      "Epoch 87/200\n",
      "42/42 [==============================] - 0s 198us/steposs: 0.0037 - mse: 0.0037 - mae: 0.03\n",
      "epoch: 86 -r2 score: 0.8588197649142078\n",
      "167/167 [==============================] - 0s 725us/step - loss: 0.0037 - mse: 0.0037 - mae: 0.0385 - val_loss: 0.0033 - val_mse: 0.0033 - val_mae: 0.0352\n",
      "Epoch 88/200\n",
      "42/42 [==============================] - 0s 199us/steposs: 0.0033 - mse: 0.0033 - mae: 0.03\n",
      "epoch: 87 -r2 score: 0.8587517035582447\n",
      "167/167 [==============================] - 0s 714us/step - loss: 0.0034 - mse: 0.0034 - mae: 0.0374 - val_loss: 0.0033 - val_mse: 0.0033 - val_mae: 0.0344\n",
      "Epoch 89/200\n",
      "42/42 [==============================] - 0s 197us/steposs: 0.0034 - mse: 0.0034 - mae: 0.03\n",
      "epoch: 88 -r2 score: 0.8565872716906394\n",
      "167/167 [==============================] - 0s 717us/step - loss: 0.0034 - mse: 0.0034 - mae: 0.0374 - val_loss: 0.0033 - val_mse: 0.0033 - val_mae: 0.0350\n",
      "Epoch 90/200\n",
      "42/42 [==============================] - 0s 205us/steposs: 0.0035 - mse: 0.0035 - mae: 0.03\n",
      "epoch: 89 -r2 score: 0.850435759213463\n",
      "167/167 [==============================] - 0s 715us/step - loss: 0.0035 - mse: 0.0035 - mae: 0.0376 - val_loss: 0.0035 - val_mse: 0.0035 - val_mae: 0.0344\n",
      "Epoch 91/200\n",
      "42/42 [==============================] - 0s 201us/steposs: 0.0036 - mse: 0.0036 - mae: 0.03\n",
      "epoch: 90 -r2 score: 0.8589832546584889\n",
      "167/167 [==============================] - 0s 717us/step - loss: 0.0035 - mse: 0.0035 - mae: 0.0381 - val_loss: 0.0033 - val_mse: 0.0033 - val_mae: 0.0344\n",
      "Epoch 92/200\n",
      "42/42 [==============================] - 0s 200us/steposs: 0.0035 - mse: 0.0035 - mae: 0.0384      \n",
      "epoch: 91 -r2 score: 0.8623640717176586\n",
      "167/167 [==============================] - 0s 716us/step - loss: 0.0034 - mse: 0.0034 - mae: 0.0380 - val_loss: 0.0032 - val_mse: 0.0032 - val_mae: 0.0335\n",
      "Epoch 93/200\n",
      "42/42 [==============================] - 0s 201us/steposs: 0.0035 - mse: 0.0035 - mae: 0.03\n",
      "epoch: 92 -r2 score: 0.8649001723193754\n",
      "167/167 [==============================] - 0s 716us/step - loss: 0.0035 - mse: 0.0035 - mae: 0.0377 - val_loss: 0.0032 - val_mse: 0.0032 - val_mae: 0.0332\n",
      "Epoch 94/200\n",
      "42/42 [==============================] - 0s 204us/steposs: 0.0036 - mse: 0.0036 - mae: 0.03\n",
      "epoch: 93 -r2 score: 0.8560684382524353\n",
      "167/167 [==============================] - 0s 710us/step - loss: 0.0036 - mse: 0.0036 - mae: 0.0381 - val_loss: 0.0034 - val_mse: 0.0034 - val_mae: 0.0349\n",
      "Epoch 95/200\n",
      "42/42 [==============================] - 0s 201us/steposs: 0.0032 - mse: 0.0032 - mae: 0.03\n",
      "epoch: 94 -r2 score: 0.8576549495394964\n",
      "167/167 [==============================] - 0s 721us/step - loss: 0.0035 - mse: 0.0035 - mae: 0.0379 - val_loss: 0.0033 - val_mse: 0.0033 - val_mae: 0.0353\n",
      "Epoch 96/200\n",
      "42/42 [==============================] - 0s 198us/steposs: 0.0036 - mse: 0.0036 - mae: 0.03\n",
      "epoch: 95 -r2 score: 0.8568104848770978\n",
      "167/167 [==============================] - 0s 711us/step - loss: 0.0035 - mse: 0.0035 - mae: 0.0379 - val_loss: 0.0033 - val_mse: 0.0033 - val_mae: 0.0354\n",
      "Epoch 97/200\n",
      "42/42 [==============================] - 0s 200us/steposs: 0.0034 - mse: 0.0034 - mae: 0.03\n",
      "epoch: 96 -r2 score: 0.8581318269565914\n",
      "167/167 [==============================] - 0s 710us/step - loss: 0.0035 - mse: 0.0035 - mae: 0.0377 - val_loss: 0.0033 - val_mse: 0.0033 - val_mae: 0.0341\n",
      "Epoch 98/200\n",
      "42/42 [==============================] - 0s 197us/steposs: 0.0036 - mse: 0.0036 - mae: 0.03\n",
      "epoch: 97 -r2 score: 0.8431919678884646\n",
      "167/167 [==============================] - 0s 724us/step - loss: 0.0036 - mse: 0.0036 - mae: 0.0382 - val_loss: 0.0037 - val_mse: 0.0037 - val_mae: 0.0350\n",
      "Epoch 99/200\n",
      "42/42 [==============================] - 0s 207us/steposs: 0.0033 - mse: 0.0033 - mae: 0.03\n",
      "epoch: 98 -r2 score: 0.8502400377958219\n",
      "167/167 [==============================] - 0s 729us/step - loss: 0.0034 - mse: 0.0034 - mae: 0.0370 - val_loss: 0.0035 - val_mse: 0.0035 - val_mae: 0.0374\n",
      "Epoch 100/200\n",
      "42/42 [==============================] - 0s 201us/steposs: 0.0034 - mse: 0.0034 - mae: 0.03\n",
      "epoch: 99 -r2 score: 0.853248567236569\n",
      "167/167 [==============================] - 0s 718us/step - loss: 0.0034 - mse: 0.0034 - mae: 0.0372 - val_loss: 0.0034 - val_mse: 0.0034 - val_mae: 0.0368\n",
      "Epoch 101/200\n",
      "42/42 [==============================] - 0s 205us/steposs: 0.0032 - mse: 0.0032 - mae: 0.03\n",
      "epoch: 100 -r2 score: 0.8555082745541152\n",
      "167/167 [==============================] - 0s 725us/step - loss: 0.0035 - mse: 0.0035 - mae: 0.0375 - val_loss: 0.0034 - val_mse: 0.0034 - val_mae: 0.0346\n",
      "Epoch 102/200\n",
      "42/42 [==============================] - 0s 201us/steposs: 0.0033 - mse: 0.0033 - mae: 0.03\n",
      "epoch: 101 -r2 score: 0.8637636292123323\n",
      "167/167 [==============================] - 0s 726us/step - loss: 0.0034 - mse: 0.0034 - mae: 0.0369 - val_loss: 0.0032 - val_mse: 0.0032 - val_mae: 0.0339\n",
      "Epoch 103/200\n",
      "42/42 [==============================] - 0s 218us/steposs: 0.0037 - mse: 0.0037 - mae: 0.03\n",
      "epoch: 102 -r2 score: 0.856704258671956\n",
      "167/167 [==============================] - 0s 735us/step - loss: 0.0035 - mse: 0.0035 - mae: 0.0371 - val_loss: 0.0033 - val_mse: 0.0033 - val_mae: 0.0348\n",
      "Epoch 104/200\n",
      "42/42 [==============================] - 0s 204us/steposs: 0.0034 - mse: 0.0034 - mae: 0.03\n",
      "epoch: 103 -r2 score: 0.8572228898427907\n",
      "167/167 [==============================] - 0s 743us/step - loss: 0.0033 - mse: 0.0033 - mae: 0.0366 - val_loss: 0.0033 - val_mse: 0.0033 - val_mae: 0.0355\n",
      "Epoch 105/200\n",
      "42/42 [==============================] - 0s 203us/steposs: 0.0036 - mse: 0.0036 - mae: 0.03\n",
      "epoch: 104 -r2 score: 0.8575749028039238\n",
      "167/167 [==============================] - 0s 736us/step - loss: 0.0035 - mse: 0.0035 - mae: 0.0376 - val_loss: 0.0033 - val_mse: 0.0033 - val_mae: 0.0360\n",
      "Epoch 106/200\n",
      "42/42 [==============================] - 0s 200us/steposs: 0.0035 - mse: 0.0035 - mae: 0.03\n",
      "epoch: 105 -r2 score: 0.8552939519900309\n",
      "167/167 [==============================] - 0s 724us/step - loss: 0.0035 - mse: 0.0035 - mae: 0.0376 - val_loss: 0.0034 - val_mse: 0.0034 - val_mae: 0.0355\n",
      "Epoch 107/200\n",
      "42/42 [==============================] - 0s 222us/steposs: 0.0034 - mse: 0.0034 - mae: 0.03\n",
      "epoch: 106 -r2 score: 0.8615808137905877\n",
      "167/167 [==============================] - 0s 938us/step - loss: 0.0034 - mse: 0.0034 - mae: 0.0371 - val_loss: 0.0032 - val_mse: 0.0032 - val_mae: 0.0343\n",
      "Epoch 108/200\n",
      "42/42 [==============================] - 0s 199us/steposs: 0.0033 - mse: 0.0033 - mae: 0.03\n",
      "epoch: 107 -r2 score: 0.859942883368808\n",
      "167/167 [==============================] - 0s 736us/step - loss: 0.0035 - mse: 0.0035 - mae: 0.0374 - val_loss: 0.0033 - val_mse: 0.0033 - val_mae: 0.0359\n",
      "Epoch 109/200\n",
      "42/42 [==============================] - 0s 196us/steposs: 0.0035 - mse: 0.0035 - mae: 0.03\n",
      "epoch: 108 -r2 score: 0.8552074390054512\n",
      "167/167 [==============================] - 0s 731us/step - loss: 0.0036 - mse: 0.0036 - mae: 0.0375 - val_loss: 0.0034 - val_mse: 0.0034 - val_mae: 0.0358\n",
      "Epoch 110/200\n",
      "42/42 [==============================] - 0s 201us/steposs: 0.0036 - mse: 0.0036 - mae: 0.03\n",
      "epoch: 109 -r2 score: 0.861786668779097\n",
      "167/167 [==============================] - 0s 728us/step - loss: 0.0035 - mse: 0.0035 - mae: 0.0377 - val_loss: 0.0032 - val_mse: 0.0032 - val_mae: 0.0345\n",
      "Epoch 111/200\n",
      "42/42 [==============================] - 0s 210us/steposs: 0.0034 - mse: 0.0034 - mae: 0.03\n",
      "epoch: 110 -r2 score: 0.8537374552646357\n",
      "167/167 [==============================] - 0s 730us/step - loss: 0.0034 - mse: 0.0034 - mae: 0.0376 - val_loss: 0.0034 - val_mse: 0.0034 - val_mae: 0.0359\n",
      "Epoch 112/200\n",
      "42/42 [==============================] - 0s 201us/steposs: 0.0035 - mse: 0.0035 - mae: 0.03\n",
      "epoch: 111 -r2 score: 0.8606906983020244\n",
      "167/167 [==============================] - 0s 736us/step - loss: 0.0034 - mse: 0.0034 - mae: 0.0378 - val_loss: 0.0033 - val_mse: 0.0033 - val_mae: 0.0351\n",
      "Epoch 113/200\n",
      "42/42 [==============================] - 0s 199us/steposs: 0.0034 - mse: 0.0034 - mae: 0.03\n",
      "epoch: 112 -r2 score: 0.8564821910520952\n",
      "167/167 [==============================] - 0s 729us/step - loss: 0.0034 - mse: 0.0034 - mae: 0.0377 - val_loss: 0.0033 - val_mse: 0.0033 - val_mae: 0.0382\n",
      "Epoch 114/200\n",
      "42/42 [==============================] - 0s 201us/steposs: 0.0033 - mse: 0.0033 - mae: 0.03\n",
      "epoch: 113 -r2 score: 0.8595907497779983\n",
      "167/167 [==============================] - 0s 721us/step - loss: 0.0033 - mse: 0.0033 - mae: 0.0370 - val_loss: 0.0033 - val_mse: 0.0033 - val_mae: 0.0337\n",
      "Epoch 115/200\n",
      "42/42 [==============================] - 0s 203us/steposs: 0.0035 - mse: 0.0035 - mae: 0.03\n",
      "epoch: 114 -r2 score: 0.8567108199180458\n",
      "167/167 [==============================] - 0s 732us/step - loss: 0.0034 - mse: 0.0034 - mae: 0.0373 - val_loss: 0.0033 - val_mse: 0.0033 - val_mae: 0.0360\n",
      "Epoch 116/200\n",
      "42/42 [==============================] - 0s 202us/steposs: 0.0035 - mse: 0.0035 - mae: 0.03\n",
      "epoch: 115 -r2 score: 0.8512571177999906\n",
      "167/167 [==============================] - 0s 727us/step - loss: 0.0035 - mse: 0.0035 - mae: 0.0375 - val_loss: 0.0035 - val_mse: 0.0035 - val_mae: 0.0366\n",
      "Epoch 117/200\n",
      "42/42 [==============================] - 0s 201us/steposs: 0.0035 - mse: 0.0035 - mae: 0.03\n",
      "epoch: 116 -r2 score: 0.8461310818143684\n",
      "167/167 [==============================] - 0s 728us/step - loss: 0.0035 - mse: 0.0035 - mae: 0.0374 - val_loss: 0.0036 - val_mse: 0.0036 - val_mae: 0.0362\n",
      "Epoch 118/200\n",
      "42/42 [==============================] - 0s 208us/steposs: 0.0033 - mse: 0.0033 - mae: 0.03\n",
      "epoch: 117 -r2 score: 0.8584864093723569\n",
      "167/167 [==============================] - 0s 732us/step - loss: 0.0035 - mse: 0.0035 - mae: 0.0375 - val_loss: 0.0033 - val_mse: 0.0033 - val_mae: 0.0362\n",
      "Epoch 119/200\n",
      "42/42 [==============================] - 0s 200us/steposs: 0.0035 - mse: 0.0035 - mae: 0.03\n",
      "epoch: 118 -r2 score: 0.8493743302301984\n",
      "167/167 [==============================] - 0s 726us/step - loss: 0.0035 - mse: 0.0035 - mae: 0.0376 - val_loss: 0.0035 - val_mse: 0.0035 - val_mae: 0.0386\n",
      "Epoch 120/200\n",
      "42/42 [==============================] - 0s 201us/steposs: 0.0034 - mse: 0.0034 - mae: 0.03\n",
      "epoch: 119 -r2 score: 0.8544771772825873\n",
      "167/167 [==============================] - 0s 743us/step - loss: 0.0035 - mse: 0.0035 - mae: 0.0379 - val_loss: 0.0034 - val_mse: 0.0034 - val_mae: 0.0366\n",
      "Epoch 121/200\n",
      "42/42 [==============================] - 0s 205us/steposs: 0.0037 - mse: 0.0037 - mae: 0.03\n",
      "epoch: 120 -r2 score: 0.8363386650506427\n",
      "167/167 [==============================] - 0s 731us/step - loss: 0.0035 - mse: 0.0035 - mae: 0.0380 - val_loss: 0.0038 - val_mse: 0.0038 - val_mae: 0.0384\n",
      "Epoch 122/200\n",
      "42/42 [==============================] - 0s 212us/steposs: 0.0034 - mse: 0.0034 - mae: 0.03\n",
      "epoch: 121 -r2 score: 0.8598310373234042\n",
      "167/167 [==============================] - 0s 739us/step - loss: 0.0035 - mse: 0.0035 - mae: 0.0381 - val_loss: 0.0033 - val_mse: 0.0033 - val_mae: 0.0342\n",
      "Epoch 123/200\n",
      "42/42 [==============================] - 0s 205us/steposs: 0.0036 - mse: 0.0036 - mae: 0.03\n",
      "epoch: 122 -r2 score: 0.8572114252527955\n",
      "167/167 [==============================] - 0s 763us/step - loss: 0.0034 - mse: 0.0034 - mae: 0.0372 - val_loss: 0.0033 - val_mse: 0.0033 - val_mae: 0.0352\n",
      "Epoch 124/200\n",
      "42/42 [==============================] - 0s 210us/steposs: 0.0034 - mse: 0.0034 - mae: 0.03\n",
      "epoch: 123 -r2 score: 0.8580366505759133\n",
      "167/167 [==============================] - 0s 741us/step - loss: 0.0034 - mse: 0.0034 - mae: 0.0373 - val_loss: 0.0033 - val_mse: 0.0033 - val_mae: 0.0349\n",
      "Epoch 125/200\n",
      "42/42 [==============================] - 0s 197us/steposs: 0.0034 - mse: 0.0034 - mae: 0.03\n",
      "epoch: 124 -r2 score: 0.8550319745219058\n",
      "167/167 [==============================] - 0s 725us/step - loss: 0.0035 - mse: 0.0035 - mae: 0.0377 - val_loss: 0.0034 - val_mse: 0.0034 - val_mae: 0.0367\n",
      "Epoch 126/200\n",
      "42/42 [==============================] - 0s 202us/steposs: 0.0034 - mse: 0.0034 - mae: 0.03\n",
      "epoch: 125 -r2 score: 0.8485212431575863\n",
      "167/167 [==============================] - 0s 731us/step - loss: 0.0035 - mse: 0.0035 - mae: 0.0376 - val_loss: 0.0035 - val_mse: 0.0035 - val_mae: 0.0379\n",
      "Epoch 127/200\n",
      "42/42 [==============================] - 0s 231us/steposs: 0.0035 - mse: 0.0035 - mae: 0.03\n",
      "epoch: 126 -r2 score: 0.8472261708212361\n",
      "167/167 [==============================] - 0s 917us/step - loss: 0.0035 - mse: 0.0035 - mae: 0.0380 - val_loss: 0.0036 - val_mse: 0.0036 - val_mae: 0.0376\n",
      "Epoch 128/200\n",
      "42/42 [==============================] - 0s 214us/steposs: 0.0035 - mse: 0.0035 - mae: 0.03\n",
      "epoch: 127 -r2 score: 0.857525832473751\n",
      "167/167 [==============================] - 0s 740us/step - loss: 0.0035 - mse: 0.0035 - mae: 0.0376 - val_loss: 0.0033 - val_mse: 0.0033 - val_mae: 0.0352\n",
      "Epoch 129/200\n",
      "42/42 [==============================] - 0s 198us/steposs: 0.0034 - mse: 0.0034 - mae: 0.03\n",
      "epoch: 128 -r2 score: 0.8591534724089505\n",
      "167/167 [==============================] - 0s 736us/step - loss: 0.0034 - mse: 0.0034 - mae: 0.0370 - val_loss: 0.0033 - val_mse: 0.0033 - val_mae: 0.0353\n",
      "Epoch 130/200\n",
      "42/42 [==============================] - 0s 202us/steposs: 0.0035 - mse: 0.0035 - mae: 0.03\n",
      "epoch: 129 -r2 score: 0.8498819861315574\n",
      "167/167 [==============================] - 0s 735us/step - loss: 0.0034 - mse: 0.0034 - mae: 0.0375 - val_loss: 0.0035 - val_mse: 0.0035 - val_mae: 0.0362\n",
      "Epoch 131/200\n",
      "42/42 [==============================] - 0s 204us/steposs: 0.0034 - mse: 0.0034 - mae: 0.03\n",
      "epoch: 130 -r2 score: 0.8561420023186949\n",
      "167/167 [==============================] - 0s 764us/step - loss: 0.0035 - mse: 0.0035 - mae: 0.0375 - val_loss: 0.0034 - val_mse: 0.0034 - val_mae: 0.0359\n",
      "Epoch 132/200\n",
      "42/42 [==============================] - 0s 202us/steposs: 0.0035 - mse: 0.0035 - mae: 0.03\n",
      "epoch: 131 -r2 score: 0.853694920861526\n",
      "167/167 [==============================] - 0s 743us/step - loss: 0.0034 - mse: 0.0034 - mae: 0.0378 - val_loss: 0.0034 - val_mse: 0.0034 - val_mae: 0.0341\n",
      "Epoch 133/200\n",
      "42/42 [==============================] - 0s 204us/steposs: 0.0035 - mse: 0.0035 - mae: 0.03\n",
      "epoch: 132 -r2 score: 0.8522639928611654\n",
      "167/167 [==============================] - 0s 741us/step - loss: 0.0035 - mse: 0.0035 - mae: 0.0376 - val_loss: 0.0034 - val_mse: 0.0034 - val_mae: 0.0342\n",
      "Epoch 134/200\n",
      "42/42 [==============================] - 0s 222us/steposs: 0.0034 - mse: 0.0034 - mae: 0.03\n",
      "epoch: 133 -r2 score: 0.8498620782854308\n",
      "167/167 [==============================] - 0s 778us/step - loss: 0.0034 - mse: 0.0034 - mae: 0.0376 - val_loss: 0.0035 - val_mse: 0.0035 - val_mae: 0.0369\n",
      "Epoch 135/200\n",
      "42/42 [==============================] - 0s 208us/steposs: 0.0035 - mse: 0.0035 - mae: 0.03\n",
      "epoch: 134 -r2 score: 0.8600337188447675\n",
      "167/167 [==============================] - 0s 772us/step - loss: 0.0035 - mse: 0.0035 - mae: 0.0381 - val_loss: 0.0033 - val_mse: 0.0033 - val_mae: 0.0352\n",
      "Epoch 136/200\n",
      "42/42 [==============================] - 0s 207us/steposs: 0.0033 - mse: 0.0033 - mae: 0.03\n",
      "epoch: 135 -r2 score: 0.8592353932869549\n",
      "167/167 [==============================] - 0s 757us/step - loss: 0.0033 - mse: 0.0033 - mae: 0.0376 - val_loss: 0.0033 - val_mse: 0.0033 - val_mae: 0.0336\n",
      "Epoch 137/200\n",
      "42/42 [==============================] - 0s 202us/steposs: 0.0036 - mse: 0.0036 - mae: 0.03\n",
      "epoch: 136 -r2 score: 0.846917033021199\n",
      "167/167 [==============================] - 0s 760us/step - loss: 0.0035 - mse: 0.0035 - mae: 0.0378 - val_loss: 0.0036 - val_mse: 0.0036 - val_mae: 0.0354\n",
      "Epoch 138/200\n",
      "42/42 [==============================] - 0s 203us/steposs: 0.0035 - mse: 0.0035 - mae: 0.03\n",
      "epoch: 137 -r2 score: 0.8467251417933852\n",
      "167/167 [==============================] - 0s 737us/step - loss: 0.0033 - mse: 0.0033 - mae: 0.0371 - val_loss: 0.0036 - val_mse: 0.0036 - val_mae: 0.0376\n",
      "Epoch 139/200\n",
      "42/42 [==============================] - 0s 199us/steposs: 0.0033 - mse: 0.0033 - mae: 0.03\n",
      "epoch: 138 -r2 score: 0.8528426055011353\n",
      "167/167 [==============================] - 0s 744us/step - loss: 0.0033 - mse: 0.0033 - mae: 0.0366 - val_loss: 0.0034 - val_mse: 0.0034 - val_mae: 0.0356\n",
      "Epoch 140/200\n",
      "42/42 [==============================] - 0s 201us/steposs: 0.0034 - mse: 0.0034 - mae: 0.03\n",
      "epoch: 139 -r2 score: 0.8568687512963493\n",
      "167/167 [==============================] - 0s 737us/step - loss: 0.0034 - mse: 0.0034 - mae: 0.0368 - val_loss: 0.0033 - val_mse: 0.0033 - val_mae: 0.0358\n",
      "Epoch 141/200\n",
      "42/42 [==============================] - 0s 233us/steposs: 0.0035 - mse: 0.0035 - mae: 0.03\n",
      "epoch: 140 -r2 score: 0.8512221577597695\n",
      "167/167 [==============================] - 0s 755us/step - loss: 0.0034 - mse: 0.0034 - mae: 0.0376 - val_loss: 0.0035 - val_mse: 0.0035 - val_mae: 0.0376\n",
      "Epoch 142/200\n",
      "42/42 [==============================] - 0s 301us/steposs: 0.0033 - mse: 0.0033 - mae: 0.03\n",
      "epoch: 141 -r2 score: 0.8631273515095743\n",
      "167/167 [==============================] - 0s 1ms/step - loss: 0.0034 - mse: 0.0034 - mae: 0.0373 - val_loss: 0.0032 - val_mse: 0.0032 - val_mae: 0.0343\n",
      "Epoch 143/200\n",
      "42/42 [==============================] - 0s 284us/steposs: 0.0036 - mse: 0.0036 - mae: 0.03\n",
      "epoch: 142 -r2 score: 0.8528841503344725\n",
      "167/167 [==============================] - 0s 926us/step - loss: 0.0034 - mse: 0.0034 - mae: 0.0374 - val_loss: 0.0034 - val_mse: 0.0034 - val_mae: 0.0371\n",
      "Epoch 144/200\n",
      "42/42 [==============================] - 0s 205us/steposs: 0.0034 - mse: 0.0034 - mae: 0.03\n",
      "epoch: 143 -r2 score: 0.8473481990098054\n",
      "167/167 [==============================] - 0s 860us/step - loss: 0.0033 - mse: 0.0033 - mae: 0.0365 - val_loss: 0.0036 - val_mse: 0.0036 - val_mae: 0.0376\n",
      "Epoch 145/200\n",
      "42/42 [==============================] - 0s 243us/steposs: 0.0034 - mse: 0.0034 - mae: 0.03\n",
      "epoch: 144 -r2 score: 0.8551695184043168\n",
      "167/167 [==============================] - 0s 767us/step - loss: 0.0036 - mse: 0.0036 - mae: 0.0379 - val_loss: 0.0034 - val_mse: 0.0034 - val_mae: 0.0356\n",
      "Epoch 146/200\n",
      "42/42 [==============================] - 0s 253us/steposs: 0.0035 - mse: 0.0035 - mae: 0.03\n",
      "epoch: 145 -r2 score: 0.8489778239292558\n",
      "167/167 [==============================] - 0s 921us/step - loss: 0.0034 - mse: 0.0034 - mae: 0.0366 - val_loss: 0.0035 - val_mse: 0.0035 - val_mae: 0.0365\n",
      "Epoch 147/200\n",
      "42/42 [==============================] - 0s 250us/steposs: 0.0035 - mse: 0.0035 - mae: 0.03\n",
      "epoch: 146 -r2 score: 0.8615009120335311\n",
      "167/167 [==============================] - 0s 919us/step - loss: 0.0033 - mse: 0.0033 - mae: 0.0369 - val_loss: 0.0032 - val_mse: 0.0032 - val_mae: 0.0347\n",
      "Epoch 148/200\n",
      "42/42 [==============================] - 0s 230us/steposs: 0.0035 - mse: 0.0035 - mae: 0.03\n",
      "epoch: 147 -r2 score: 0.8559213561560793\n",
      "167/167 [==============================] - 0s 812us/step - loss: 0.0034 - mse: 0.0034 - mae: 0.0375 - val_loss: 0.0034 - val_mse: 0.0034 - val_mae: 0.0354\n",
      "Epoch 149/200\n",
      "42/42 [==============================] - 0s 231us/steposs: 0.0034 - mse: 0.0034 - mae: 0.03\n",
      "epoch: 148 -r2 score: 0.853121679150179\n",
      "167/167 [==============================] - 0s 761us/step - loss: 0.0034 - mse: 0.0034 - mae: 0.0376 - val_loss: 0.0034 - val_mse: 0.0034 - val_mae: 0.0345\n",
      "Epoch 150/200\n",
      "42/42 [==============================] - 0s 202us/steposs: 0.0036 - mse: 0.0036 - mae: 0.03\n",
      "epoch: 149 -r2 score: 0.8648211255793681\n",
      "167/167 [==============================] - 0s 749us/step - loss: 0.0034 - mse: 0.0034 - mae: 0.0373 - val_loss: 0.0032 - val_mse: 0.0032 - val_mae: 0.0335\n",
      "Epoch 151/200\n",
      "42/42 [==============================] - 0s 218us/steposs: 0.0034 - mse: 0.0034 - mae: 0.03\n",
      "epoch: 150 -r2 score: 0.8506720114930776\n",
      "167/167 [==============================] - 0s 742us/step - loss: 0.0035 - mse: 0.0035 - mae: 0.0377 - val_loss: 0.0035 - val_mse: 0.0035 - val_mae: 0.0363\n",
      "Epoch 152/200\n",
      "42/42 [==============================] - 0s 204us/steposs: 0.0032 - mse: 0.0032 - mae: 0.03\n",
      "epoch: 151 -r2 score: 0.8617263022626902\n",
      "167/167 [==============================] - 0s 754us/step - loss: 0.0033 - mse: 0.0033 - mae: 0.0367 - val_loss: 0.0032 - val_mse: 0.0032 - val_mae: 0.0346\n",
      "Epoch 153/200\n",
      "42/42 [==============================] - 0s 204us/steposs: 0.0033 - mse: 0.0033 - mae: 0.03\n",
      "epoch: 152 -r2 score: 0.859891749009611\n",
      "167/167 [==============================] - 0s 761us/step - loss: 0.0034 - mse: 0.0034 - mae: 0.0370 - val_loss: 0.0033 - val_mse: 0.0033 - val_mae: 0.0358\n",
      "Epoch 154/200\n",
      "42/42 [==============================] - 0s 217us/steposs: 0.0032 - mse: 0.0032 - mae: 0.03\n",
      "epoch: 153 -r2 score: 0.845020791785517\n",
      "167/167 [==============================] - 0s 749us/step - loss: 0.0033 - mse: 0.0033 - mae: 0.0371 - val_loss: 0.0036 - val_mse: 0.0036 - val_mae: 0.0381\n",
      "Epoch 155/200\n",
      "42/42 [==============================] - 0s 219us/steposs: 0.0033 - mse: 0.0033 - mae: 0.03\n",
      "epoch: 154 -r2 score: 0.8554392382864789\n",
      "167/167 [==============================] - 0s 936us/step - loss: 0.0034 - mse: 0.0034 - mae: 0.0370 - val_loss: 0.0034 - val_mse: 0.0034 - val_mae: 0.0372\n",
      "Epoch 156/200\n",
      "42/42 [==============================] - 0s 232us/steposs: 0.0033 - mse: 0.0033 - mae: 0.03\n",
      "epoch: 155 -r2 score: 0.8624572073825458\n",
      "167/167 [==============================] - 0s 746us/step - loss: 0.0034 - mse: 0.0034 - mae: 0.0372 - val_loss: 0.0032 - val_mse: 0.0032 - val_mae: 0.0342\n",
      "Epoch 157/200\n",
      "42/42 [==============================] - 0s 220us/steposs: 0.0035 - mse: 0.0035 - mae: 0.03\n",
      "epoch: 156 -r2 score: 0.8592684040303102\n",
      "167/167 [==============================] - 0s 745us/step - loss: 0.0034 - mse: 0.0034 - mae: 0.0370 - val_loss: 0.0033 - val_mse: 0.0033 - val_mae: 0.0346\n",
      "Epoch 158/200\n",
      "42/42 [==============================] - 0s 216us/steposs: 0.0034 - mse: 0.0034 - mae: 0.03\n",
      "epoch: 157 -r2 score: 0.8498988666306984\n",
      "167/167 [==============================] - 0s 770us/step - loss: 0.0034 - mse: 0.0034 - mae: 0.0375 - val_loss: 0.0035 - val_mse: 0.0035 - val_mae: 0.0387\n",
      "Epoch 159/200\n",
      "42/42 [==============================] - 0s 219us/steposs: 0.0035 - mse: 0.0035 - mae: 0.03\n",
      "epoch: 158 -r2 score: 0.8539222429541875\n",
      "167/167 [==============================] - 0s 757us/step - loss: 0.0034 - mse: 0.0034 - mae: 0.0373 - val_loss: 0.0034 - val_mse: 0.0034 - val_mae: 0.0357\n",
      "Epoch 160/200\n",
      "42/42 [==============================] - 0s 211us/steposs: 0.0032 - mse: 0.0032 - mae: 0.03\n",
      "epoch: 159 -r2 score: 0.8527703845487411\n",
      "167/167 [==============================] - 0s 741us/step - loss: 0.0033 - mse: 0.0033 - mae: 0.0369 - val_loss: 0.0034 - val_mse: 0.0034 - val_mae: 0.0359\n",
      "Epoch 161/200\n",
      "42/42 [==============================] - 0s 227us/steposs: 0.0032 - mse: 0.0032 - mae: 0.03\n",
      "epoch: 160 -r2 score: 0.8584169460082531\n",
      "167/167 [==============================] - 0s 742us/step - loss: 0.0033 - mse: 0.0033 - mae: 0.0371 - val_loss: 0.0033 - val_mse: 0.0033 - val_mae: 0.0359\n",
      "Epoch 162/200\n",
      "42/42 [==============================] - 0s 206us/steposs: 0.0033 - mse: 0.0033 - mae: 0.03\n",
      "epoch: 161 -r2 score: 0.8540436200222243\n",
      "167/167 [==============================] - 0s 735us/step - loss: 0.0033 - mse: 0.0033 - mae: 0.0371 - val_loss: 0.0034 - val_mse: 0.0034 - val_mae: 0.0341\n",
      "Epoch 163/200\n",
      "42/42 [==============================] - 0s 218us/steposs: 0.0033 - mse: 0.0033 - mae: 0.03\n",
      "epoch: 162 -r2 score: 0.8532911038512797\n",
      "167/167 [==============================] - 0s 730us/step - loss: 0.0033 - mse: 0.0033 - mae: 0.0366 - val_loss: 0.0034 - val_mse: 0.0034 - val_mae: 0.0362\n",
      "Epoch 164/200\n",
      "42/42 [==============================] - 0s 211us/steposs: 0.0035 - mse: 0.0035 - mae: 0.03\n",
      "epoch: 163 -r2 score: 0.8572506011649996\n",
      "167/167 [==============================] - 0s 759us/step - loss: 0.0034 - mse: 0.0034 - mae: 0.0374 - val_loss: 0.0033 - val_mse: 0.0033 - val_mae: 0.0348\n",
      "Epoch 165/200\n",
      "42/42 [==============================] - 0s 214us/steposs: 0.0036 - mse: 0.0036 - mae: 0.03\n",
      "epoch: 164 -r2 score: 0.8441252440369013\n",
      "167/167 [==============================] - 0s 750us/step - loss: 0.0035 - mse: 0.0035 - mae: 0.0381 - val_loss: 0.0036 - val_mse: 0.0036 - val_mae: 0.0381\n",
      "Epoch 166/200\n",
      "42/42 [==============================] - 0s 220us/steposs: 0.0033 - mse: 0.0033 - mae: 0.03\n",
      "epoch: 165 -r2 score: 0.8584808156734449\n",
      "167/167 [==============================] - 0s 946us/step - loss: 0.0033 - mse: 0.0033 - mae: 0.0369 - val_loss: 0.0033 - val_mse: 0.0033 - val_mae: 0.0360\n",
      "Epoch 167/200\n",
      "42/42 [==============================] - 0s 222us/steposs: 0.0033 - mse: 0.0033 - mae: 0.03\n",
      "epoch: 166 -r2 score: 0.8628143224217705\n",
      "167/167 [==============================] - 0s 768us/step - loss: 0.0034 - mse: 0.0034 - mae: 0.0368 - val_loss: 0.0032 - val_mse: 0.0032 - val_mae: 0.0354\n",
      "Epoch 168/200\n",
      "42/42 [==============================] - 0s 235us/steposs: 0.0034 - mse: 0.0034 - mae: 0.03\n",
      "epoch: 167 -r2 score: 0.845473950268159\n",
      "167/167 [==============================] - 0s 767us/step - loss: 0.0035 - mse: 0.0035 - mae: 0.0370 - val_loss: 0.0036 - val_mse: 0.0036 - val_mae: 0.0361\n",
      "Epoch 169/200\n",
      "42/42 [==============================] - 0s 222us/steposs: 0.0034 - mse: 0.0034 - mae: 0.03\n",
      "epoch: 168 -r2 score: 0.8580512419676032\n",
      "167/167 [==============================] - 0s 755us/step - loss: 0.0034 - mse: 0.0034 - mae: 0.0368 - val_loss: 0.0033 - val_mse: 0.0033 - val_mae: 0.0348\n",
      "Epoch 170/200\n",
      "42/42 [==============================] - 0s 228us/steposs: 0.0033 - mse: 0.0033 - mae: 0.03\n",
      "epoch: 169 -r2 score: 0.8534482920841655\n",
      "167/167 [==============================] - 0s 748us/step - loss: 0.0034 - mse: 0.0034 - mae: 0.0371 - val_loss: 0.0034 - val_mse: 0.0034 - val_mae: 0.0358\n",
      "Epoch 171/200\n",
      "42/42 [==============================] - 0s 215us/steposs: 0.0034 - mse: 0.0034 - mae: 0.03\n",
      "epoch: 170 -r2 score: 0.8540279489416766\n",
      "167/167 [==============================] - 0s 745us/step - loss: 0.0034 - mse: 0.0034 - mae: 0.0371 - val_loss: 0.0034 - val_mse: 0.0034 - val_mae: 0.0351\n",
      "Epoch 172/200\n",
      "42/42 [==============================] - 0s 223us/steposs: 0.0032 - mse: 0.0032 - mae: 0.03\n",
      "epoch: 171 -r2 score: 0.8513106211407317\n",
      "167/167 [==============================] - 0s 744us/step - loss: 0.0034 - mse: 0.0034 - mae: 0.0372 - val_loss: 0.0035 - val_mse: 0.0035 - val_mae: 0.0349\n",
      "Epoch 173/200\n",
      "42/42 [==============================] - 0s 224us/steposs: 0.0036 - mse: 0.0036 - mae: 0.03\n",
      "epoch: 172 -r2 score: 0.8472607680995883\n",
      "167/167 [==============================] - 0s 741us/step - loss: 0.0034 - mse: 0.0034 - mae: 0.0377 - val_loss: 0.0036 - val_mse: 0.0036 - val_mae: 0.0366\n",
      "Epoch 174/200\n",
      "42/42 [==============================] - 0s 236us/steposs: 0.0033 - mse: 0.0033 - mae: 0.03\n",
      "epoch: 173 -r2 score: 0.8523737689875617\n",
      "167/167 [==============================] - 0s 745us/step - loss: 0.0034 - mse: 0.0034 - mae: 0.0376 - val_loss: 0.0034 - val_mse: 0.0034 - val_mae: 0.0344\n",
      "Epoch 175/200\n",
      "42/42 [==============================] - 0s 212us/steposs: 0.0035 - mse: 0.0035 - mae: 0.03\n",
      "epoch: 174 -r2 score: 0.8537933979391554\n",
      "167/167 [==============================] - 0s 776us/step - loss: 0.0034 - mse: 0.0034 - mae: 0.0371 - val_loss: 0.0034 - val_mse: 0.0034 - val_mae: 0.0365\n",
      "Epoch 176/200\n",
      "42/42 [==============================] - 0s 222us/steposs: 0.0033 - mse: 0.0033 - mae: 0.03\n",
      "epoch: 175 -r2 score: 0.8493970648539502\n",
      "167/167 [==============================] - 0s 745us/step - loss: 0.0034 - mse: 0.0034 - mae: 0.0370 - val_loss: 0.0035 - val_mse: 0.0035 - val_mae: 0.0381\n",
      "Epoch 177/200\n",
      "42/42 [==============================] - 0s 229us/steposs: 0.0034 - mse: 0.0034 - mae: 0.03\n",
      "epoch: 176 -r2 score: 0.863846542092775\n",
      "167/167 [==============================] - 0s 983us/step - loss: 0.0034 - mse: 0.0034 - mae: 0.0375 - val_loss: 0.0032 - val_mse: 0.0032 - val_mae: 0.0339\n",
      "Epoch 178/200\n",
      "42/42 [==============================] - 0s 226us/steposs: 0.0032 - mse: 0.0032 - mae: 0.03\n",
      "epoch: 177 -r2 score: 0.8472137616554188\n",
      "167/167 [==============================] - 0s 761us/step - loss: 0.0033 - mse: 0.0033 - mae: 0.0366 - val_loss: 0.0036 - val_mse: 0.0036 - val_mae: 0.0382\n",
      "Epoch 179/200\n",
      "42/42 [==============================] - 0s 219us/steposs: 0.0034 - mse: 0.0034 - mae: 0.03\n",
      "epoch: 178 -r2 score: 0.856268773025566\n",
      "167/167 [==============================] - 0s 744us/step - loss: 0.0034 - mse: 0.0034 - mae: 0.0376 - val_loss: 0.0034 - val_mse: 0.0034 - val_mae: 0.0354\n",
      "Epoch 180/200\n",
      "42/42 [==============================] - 0s 221us/steposs: 0.0033 - mse: 0.0033 - mae: 0.03\n",
      "epoch: 179 -r2 score: 0.8610304822249472\n",
      "167/167 [==============================] - 0s 739us/step - loss: 0.0033 - mse: 0.0033 - mae: 0.0372 - val_loss: 0.0032 - val_mse: 0.0032 - val_mae: 0.0342\n",
      "Epoch 181/200\n",
      "42/42 [==============================] - 0s 218us/steposs: 0.0033 - mse: 0.0033 - mae: 0.03\n",
      "epoch: 180 -r2 score: 0.8525668777515147\n",
      "167/167 [==============================] - 0s 745us/step - loss: 0.0033 - mse: 0.0033 - mae: 0.0370 - val_loss: 0.0034 - val_mse: 0.0034 - val_mae: 0.0370\n",
      "Epoch 182/200\n",
      "42/42 [==============================] - 0s 223us/steposs: 0.0033 - mse: 0.0033 - mae: 0.03\n",
      "epoch: 181 -r2 score: 0.8529671827001124\n",
      "167/167 [==============================] - 0s 745us/step - loss: 0.0034 - mse: 0.0034 - mae: 0.0369 - val_loss: 0.0034 - val_mse: 0.0034 - val_mae: 0.0356\n",
      "Epoch 183/200\n",
      "42/42 [==============================] - 0s 221us/steposs: 0.0032 - mse: 0.0032 - mae: 0.03\n",
      "epoch: 182 -r2 score: 0.846044629893798\n",
      "167/167 [==============================] - 0s 745us/step - loss: 0.0033 - mse: 0.0033 - mae: 0.0368 - val_loss: 0.0036 - val_mse: 0.0036 - val_mae: 0.0373\n",
      "Epoch 184/200\n",
      "42/42 [==============================] - 0s 224us/steposs: 0.0033 - mse: 0.0033 - mae: 0.03\n",
      "epoch: 183 -r2 score: 0.8507513674487832\n",
      "167/167 [==============================] - 0s 741us/step - loss: 0.0033 - mse: 0.0033 - mae: 0.0372 - val_loss: 0.0035 - val_mse: 0.0035 - val_mae: 0.0362\n",
      "Epoch 185/200\n",
      "42/42 [==============================] - 0s 223us/steposs: 0.0032 - mse: 0.0032 - mae: 0.03\n",
      "epoch: 184 -r2 score: 0.8524032269679518\n",
      "167/167 [==============================] - 0s 750us/step - loss: 0.0033 - mse: 0.0033 - mae: 0.0372 - val_loss: 0.0034 - val_mse: 0.0034 - val_mae: 0.0349\n",
      "Epoch 186/200\n",
      "42/42 [==============================] - 0s 217us/steposs: 0.0032 - mse: 0.0032 - mae: 0.03\n",
      "epoch: 185 -r2 score: 0.8480951617403492\n",
      "167/167 [==============================] - 0s 750us/step - loss: 0.0033 - mse: 0.0033 - mae: 0.0372 - val_loss: 0.0035 - val_mse: 0.0035 - val_mae: 0.0343\n",
      "Epoch 187/200\n",
      "42/42 [==============================] - 0s 225us/steposs: 0.0033 - mse: 0.0033 - mae: 0.03\n",
      "epoch: 186 -r2 score: 0.8486502627758507\n",
      "167/167 [==============================] - 0s 968us/step - loss: 0.0033 - mse: 0.0033 - mae: 0.0366 - val_loss: 0.0035 - val_mse: 0.0035 - val_mae: 0.0359\n",
      "Epoch 188/200\n",
      "42/42 [==============================] - 0s 216us/steposs: 0.0032 - mse: 0.0032 - mae: 0.03\n",
      "epoch: 187 -r2 score: 0.8588226923041673\n",
      "167/167 [==============================] - 0s 751us/step - loss: 0.0033 - mse: 0.0033 - mae: 0.0367 - val_loss: 0.0033 - val_mse: 0.0033 - val_mae: 0.0348\n",
      "Epoch 189/200\n",
      "42/42 [==============================] - 0s 220us/steposs: 0.0035 - mse: 0.0035 - mae: 0.03\n",
      "epoch: 188 -r2 score: 0.8557773849310528\n",
      "167/167 [==============================] - 0s 745us/step - loss: 0.0034 - mse: 0.0034 - mae: 0.0370 - val_loss: 0.0034 - val_mse: 0.0034 - val_mae: 0.0366\n",
      "Epoch 190/200\n",
      "42/42 [==============================] - 0s 219us/steposs: 0.0032 - mse: 0.0032 - mae: 0.03\n",
      "epoch: 189 -r2 score: 0.8541125760598258\n",
      "167/167 [==============================] - 0s 750us/step - loss: 0.0033 - mse: 0.0033 - mae: 0.0368 - val_loss: 0.0034 - val_mse: 0.0034 - val_mae: 0.0368\n",
      "Epoch 191/200\n",
      "42/42 [==============================] - 0s 222us/steposs: 0.0033 - mse: 0.0033 - mae: 0.03\n",
      "epoch: 190 -r2 score: 0.8568625031158407\n",
      "167/167 [==============================] - 0s 744us/step - loss: 0.0033 - mse: 0.0033 - mae: 0.0370 - val_loss: 0.0033 - val_mse: 0.0033 - val_mae: 0.0344\n",
      "Epoch 192/200\n",
      "42/42 [==============================] - 0s 220us/steposs: 0.0034 - mse: 0.0034 - mae: 0.03\n",
      "epoch: 191 -r2 score: 0.8605518389086834\n",
      "167/167 [==============================] - 0s 756us/step - loss: 0.0034 - mse: 0.0034 - mae: 0.0373 - val_loss: 0.0033 - val_mse: 0.0033 - val_mae: 0.0352\n",
      "Epoch 193/200\n",
      "42/42 [==============================] - 0s 216us/steposs: 0.0032 - mse: 0.0032 - mae: 0.03\n",
      "epoch: 192 -r2 score: 0.8487145559654707\n",
      "167/167 [==============================] - 0s 751us/step - loss: 0.0032 - mse: 0.0032 - mae: 0.0368 - val_loss: 0.0035 - val_mse: 0.0035 - val_mae: 0.0355\n",
      "Epoch 194/200\n",
      "42/42 [==============================] - 0s 223us/steposs: 0.0033 - mse: 0.0033 - mae: 0.03\n",
      "epoch: 193 -r2 score: 0.8571820289009118\n",
      "167/167 [==============================] - 0s 741us/step - loss: 0.0034 - mse: 0.0034 - mae: 0.0379 - val_loss: 0.0033 - val_mse: 0.0033 - val_mae: 0.0341\n",
      "Epoch 195/200\n",
      "42/42 [==============================] - 0s 220us/steposs: 0.0033 - mse: 0.0033 - mae: 0.03\n",
      "epoch: 194 -r2 score: 0.852011396098971\n",
      "167/167 [==============================] - 0s 760us/step - loss: 0.0034 - mse: 0.0034 - mae: 0.0372 - val_loss: 0.0035 - val_mse: 0.0035 - val_mae: 0.0358\n",
      "Epoch 196/200\n",
      "42/42 [==============================] - 0s 225us/steposs: 0.0034 - mse: 0.0034 - mae: 0.03\n",
      "epoch: 195 -r2 score: 0.8517819611364847\n",
      "167/167 [==============================] - 0s 948us/step - loss: 0.0034 - mse: 0.0034 - mae: 0.0378 - val_loss: 0.0035 - val_mse: 0.0035 - val_mae: 0.0358\n",
      "Epoch 197/200\n",
      "42/42 [==============================] - 0s 225us/steposs: 0.0034 - mse: 0.0034 - mae: 0.03\n",
      "epoch: 196 -r2 score: 0.8547610185666583\n",
      "167/167 [==============================] - 0s 768us/step - loss: 0.0033 - mse: 0.0033 - mae: 0.0371 - val_loss: 0.0034 - val_mse: 0.0034 - val_mae: 0.0338\n",
      "Epoch 198/200\n",
      "42/42 [==============================] - 0s 215us/steposs: 0.0034 - mse: 0.0034 - mae: 0.03\n",
      "epoch: 197 -r2 score: 0.8480795268966362\n",
      "167/167 [==============================] - 0s 761us/step - loss: 0.0033 - mse: 0.0033 - mae: 0.0376 - val_loss: 0.0035 - val_mse: 0.0035 - val_mae: 0.0370\n",
      "Epoch 199/200\n",
      "42/42 [==============================] - 0s 224us/steposs: 0.0033 - mse: 0.0033 - mae: 0.0372      \n",
      "epoch: 198 -r2 score: 0.8558377150770429\n",
      "167/167 [==============================] - 0s 748us/step - loss: 0.0033 - mse: 0.0033 - mae: 0.0368 - val_loss: 0.0034 - val_mse: 0.0034 - val_mae: 0.0348\n",
      "Epoch 200/200\n",
      "42/42 [==============================] - 0s 229us/steposs: 0.0033 - mse: 0.0033 - mae: 0.03\n",
      "epoch: 199 -r2 score: 0.8620184624535409\n",
      "167/167 [==============================] - 0s 751us/step - loss: 0.0034 - mse: 0.0034 - mae: 0.0371 - val_loss: 0.0032 - val_mse: 0.0032 - val_mae: 0.0349\n"
     ]
    }
   ],
   "source": [
    "history=model.fit(train_data,train_target,epochs=200,validation_data=(test_data,test_target),callbacks=[checkpoint,CustomCallback()])"
   ]
  },
  {
   "cell_type": "code",
   "execution_count": 204,
   "id": "141a5c80-5f6a-4dab-a7d1-394eeb34738c",
   "metadata": {},
   "outputs": [
    {
     "data": {
      "image/png": "[encoded data removed]",
      "text/plain": [
       "<Figure size 640x480 with 1 Axes>"
      ]
     },
     "metadata": {},
     "output_type": "display_data"
    }
   ],
   "source": [
    "from matplotlib import pyplot as plt\n",
    "\n",
    "plt.plot(model.history.history['loss'])\n",
    "plt.plot(model.history.history['val_loss'])\n",
    "\n",
    "plt.xlabel('# of epochs')\n",
    "plt.ylabel('loss')\n",
    "plt.show()\n",
    "#here in regression problem we only look for loss,we cant look for accuracy"
   ]
  },
  {
   "cell_type": "markdown",
   "id": "a5f18047-4839-46b1-a030-2d1876d1fc7f",
   "metadata": {},
   "source": [
    "#solutions for overfitting\n",
    "#overfitting means for the testing data after some points the prediction error will increase,that point we say optimal\n",
    "solutions for overfitting\n",
    "1early stopping\n",
    "2dropout layers\n",
    "3batch normalization\n",
    "4regularization\n",
    "5reduce the complexity-parameters reduce krnn puluwan\n",
    "6data augmentation-artificially making which means by existing images we make new images"
   ]
  },
  {
   "cell_type": "markdown",
   "id": "03c0a1e2-f354-4f25-a4ff-129a3c7724dd",
   "metadata": {},
   "source": [
    "## R2 ScORE"
   ]
  },
  {
   "cell_type": "code",
   "execution_count": 205,
   "id": "ebfc7d64-da11-4495-880f-369655c25bda",
   "metadata": {},
   "outputs": [],
   "source": [
    "#In regression problems we measure r2 instead of accuracy\n",
    "#like classification accuracy when accuracy reach 1 it is good,likewise when r2 reach 1 it is good\n",
    "#we get r2 by comparing the test target with predicted results"
   ]
  },
  {
   "cell_type": "code",
   "execution_count": 206,
   "id": "04b7567d-dced-4e18-963e-a9c9af8b52fc",
   "metadata": {},
   "outputs": [
    {
     "name": "stdout",
     "output_type": "stream",
     "text": [
      "42/42 [==============================] - 0s 343us/step\n",
      "r2 score: 0.8620184624535409\n"
     ]
    }
   ],
   "source": [
    "from sklearn.metrics import r2_score\n",
    "\n",
    "predicted_result= model.predict(test_data)\n",
    "r2= r2_score(test_target,predicted_result)\n",
    "print('r2 score:',r2)"
   ]
  },
  {
   "cell_type": "code",
   "execution_count": 207,
   "id": "2520b038-7830-4c62-8e1d-8b2e57e7e041",
   "metadata": {},
   "outputs": [
    {
     "name": "stdout",
     "output_type": "stream",
     "text": [
      "actual: [[0.07971864 0.33411489 0.28487691 0.42907386 0.014068   0.01172333\n",
      "  0.19109027 0.09495897 0.00117233 0.06213365]]\n",
      "predicted: [[0.07344096 0.31370014 0.3006565  0.39457297 0.01564573 0.01898108\n",
      "  0.31700057 0.10175339 0.00933854 0.04215856]]\n"
     ]
    }
   ],
   "source": [
    "print('actual:', test_target[:10].T)\n",
    "print('predicted:', predicted_result[:10].T)\n",
    "#these are scaled values, we have to convert this to actual values"
   ]
  },
  {
   "cell_type": "code",
   "execution_count": 208,
   "id": "70e2ba55-4615-45ac-bd8d-c4f264113eb1",
   "metadata": {},
   "outputs": [
    {
     "name": "stdout",
     "output_type": "stream",
     "text": [
      "actual inverse scaled: [[ 6.9 28.6 24.4 36.7  1.3  1.1 16.4  8.2  0.2  5.4]]\n",
      "predicted inverse scaled: [[ 6.364514  26.858622  25.745998  33.757076   1.4345812  1.7190858\n",
      "  27.140148   8.779564   0.8965777  3.6961248]]\n"
     ]
    }
   ],
   "source": [
    "print('actual inverse scaled:',scaler_target.inverse_transform(test_target[:10]).T)\n",
    "print('predicted inverse scaled:',scaler_target.inverse_transform(predicted_result[:10]).T)"
   ]
  },
  {
   "cell_type": "code",
   "execution_count": 209,
   "id": "be03ea0a-c757-4c2a-a1dd-0e2bf6848e93",
   "metadata": {},
   "outputs": [],
   "source": [
    "#get one raw\n",
    "test_data=np.array([0,63,186,46,1,1,0]).reshape(1,-1)"
   ]
  },
  {
   "cell_type": "code",
   "execution_count": 210,
   "id": "ba19cb37-235d-4d16-ac2f-ced2793f15bd",
   "metadata": {},
   "outputs": [],
   "source": [
    "scaled_test_data= scaler_data.transform(test_data)"
   ]
  },
  {
   "cell_type": "code",
   "execution_count": 211,
   "id": "68d4b2e3-1d71-455f-b31f-76fa2beac884",
   "metadata": {},
   "outputs": [
    {
     "name": "stdout",
     "output_type": "stream",
     "text": [
      "1/1 [==============================] - 0s 15ms/step\n",
      "[[0.23137209]]\n"
     ]
    }
   ],
   "source": [
    "result= model.predict(scaled_test_data)\n",
    "print(result)"
   ]
  },
  {
   "cell_type": "code",
   "execution_count": 212,
   "id": "907ea0e3-6f0d-4cb9-80f7-7dd94d472a09",
   "metadata": {},
   "outputs": [
    {
     "data": {
      "text/plain": [
       "array([[19.836039]], dtype=float32)"
      ]
     },
     "execution_count": 212,
     "metadata": {},
     "output_type": "execute_result"
    }
   ],
   "source": [
    "scaler_target.inverse_transform(result)"
   ]
  },
  {
   "cell_type": "markdown",
   "id": "33b3424c-ab91-4934-8a43-7632e791c5b8",
   "metadata": {},
   "source": [
    "## Save all the models"
   ]
  },
  {
   "cell_type": "code",
   "execution_count": 213,
   "id": "579cd2ad-008a-4c05-9cf2-84f3cbe2d203",
   "metadata": {},
   "outputs": [
    {
     "data": {
      "text/plain": [
       "['scaler_target.sav']"
      ]
     },
     "execution_count": 213,
     "metadata": {},
     "output_type": "execute_result"
    }
   ],
   "source": [
    "import joblib\n",
    "\n",
    "joblib.dump(scaler_data,'scaler_data.sav')\n",
    "joblib.dump(scaler_target,'scaler_target.sav')"
   ]
  },
  {
   "cell_type": "code",
   "execution_count": null,
   "id": "9af9b2d9-54a9-4301-bdcb-4fef25356bee",
   "metadata": {},
   "outputs": [],
   "source": []
  }
 ],
 "metadata": {
  "kernelspec": {
   "display_name": "Python myenv",
   "language": "python",
   "name": "myenv"
  },
  "language_info": {
   "codemirror_mode": {
    "name": "ipython",
    "version": 3
   },
   "file_extension": ".py",
   "mimetype": "text/x-python",
   "name": "python",
   "nbconvert_exporter": "python",
   "pygments_lexer": "ipython3",
   "version": "3.11.5"
  }
 },
 "nbformat": 4,
 "nbformat_minor": 5
}
